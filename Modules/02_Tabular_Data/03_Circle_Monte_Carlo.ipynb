{
 "cells": [
  {
   "cell_type": "markdown",
   "id": "9a9bb6fe-1cf8-4f33-830a-02dafe60ec83",
   "metadata": {},
   "source": [
    "# Example application: estimate the area inside a circle without calculus"
   ]
  },
  {
   "cell_type": "markdown",
   "id": "e70f9ee2-f4b7-43d9-ac00-57f43249a9e9",
   "metadata": {
    "tags": []
   },
   "source": [
    "Inspired by David Biersach's excellent [tutorial on Monte Carlo methods](https://github.com/dbiersach/scicomp101/tree/a863ea0cb3a02165abf681563de95dc506b47f1f/Session%2012%20-%20Monte%20Carlo%20Methods) (as well as plenty of other examples of this on the internet), we seek to estimate the area inside a circle without knowledge of calculus or the formula for the area of a circle, $A=\\pi r^2.$\n",
    "\n",
    "We will be armed with only the following information: a circle is defined by the equation $x^2 + y^2 = r^2.$\n",
    "\n",
    "How can we proceed to do this?\n",
    "\n",
    "First, lets make a plot of a circle inscribed within a square. We'll see why we're doing this later. Lets import some required plotting libraries and set a few defaults to make visualizing easier."
   ]
  },
  {
   "cell_type": "code",
   "execution_count": null,
   "id": "15c00c26-3645-45a4-8bf0-115b78f61bbd",
   "metadata": {
    "tags": []
   },
   "outputs": [],
   "source": [
    "import matplotlib.pyplot as plt\n",
    "import matplotlib as mpl\n",
    "labelsize = 12\n",
    "mpl.rcParams['figure.dpi'] = 250\n",
    "mpl.rcParams['mathtext.fontset'] = 'stix'\n",
    "mpl.rcParams['font.family'] = 'STIXGeneral'\n",
    "mpl.rcParams['text.usetex'] = True\n",
    "plt.rc('xtick', labelsize=labelsize)\n",
    "plt.rc('ytick', labelsize=labelsize)\n",
    "plt.rc('axes', labelsize=labelsize)"
   ]
  },
  {
   "cell_type": "markdown",
   "id": "6d6df9d1-0d92-4e4a-ac45-c34c19b2a4d1",
   "metadata": {},
   "source": [
    "Define a few helper functions."
   ]
  },
  {
   "cell_type": "code",
   "execution_count": null,
   "id": "40d0a546-ea1f-4c53-97e8-4ed32e7e37df",
   "metadata": {
    "tags": []
   },
   "outputs": [],
   "source": [
    "def make_circle(ax):\n",
    "    circle_radius = 1\n",
    "    circle = plt.Circle((0, 0), circle_radius, color='blue', fill=False)\n",
    "    ax.add_patch(circle)\n",
    "    \n",
    "def set_axes_properties(ax):\n",
    "    # Set the limits of the plot\n",
    "    ax.set_xlim(-1, 1)\n",
    "    ax.set_ylim(-1, 1)\n",
    "\n",
    "    # Set the aspect of the plot to be equal\n",
    "    ax.set_aspect('equal')\n",
    "\n",
    "    # Add labels and title\n",
    "    ax.set_xlabel(\"$x$\")\n",
    "    ax.set_ylabel(\"$y$\")\n",
    "    \n",
    "    # Add ticks manually\n",
    "    ax.set_yticks([-1, 0, 1])\n",
    "    ax.set_xticks([-1, 0, 1])"
   ]
  },
  {
   "cell_type": "code",
   "execution_count": null,
   "id": "21d62168-52b3-49e1-95b8-19e32dd9f7e4",
   "metadata": {
    "tags": []
   },
   "outputs": [],
   "source": [
    "fig, ax = plt.subplots(1, 1, figsize=(1, 1))\n",
    "make_circle(ax)\n",
    "set_axes_properties(ax)\n",
    "plt.show()"
   ]
  },
  {
   "cell_type": "markdown",
   "id": "a86398cb-351f-447c-b555-927fca088397",
   "metadata": {},
   "source": [
    "The objective of this notebook will be to estimate the area contained inside of the blue circle **without** using the equation $A=\\pi r^2.$"
   ]
  },
  {
   "cell_type": "markdown",
   "id": "a59e9875-2707-4b3c-adb8-940ae77cbee8",
   "metadata": {},
   "source": [
    "## Monte Carlo"
   ]
  },
  {
   "cell_type": "markdown",
   "id": "18208a23-0ff7-4f84-915b-64f149992fc7",
   "metadata": {},
   "source": [
    "Monte Carlo (MC) derives its name from the Monte Carlo Casino in Monaco. The fundamental premise of MC is to use randomness to solve problems. There are too many details to go into here in this notebook, so we'll leave the theory of MC to other texts. The main point here is to show how to use NumPy to draw many random samples, and to use those samples to make an estimate for the area of the circle above. The key points to keep in mind are as follows.\n",
    "\n",
    "Imagine you throw many darts at the picture above. The darts are always constrained to land within the square, but might not necessarily land within the circle. It stands to reason that given enough dart throws, that the ratio of the areas of the circle to the square should be equal to the ratio of the darts thrown in the circle, to the total number of darts thrown. Mathematically:\n",
    "\n",
    "$$ \\frac{A_\\mathrm{circle}}{A_\\mathrm{square}} = \\frac{N_\\mathrm{in}}{N}.$$\n",
    "\n",
    "Thsi means that the area of the circle is simply $4\\frac{N_\\mathrm{in}}{N}$, since the area of the rectangle is 4. At this point, all we have to do is sample some random points on the domain of the square, and evaluate how many satisfy the equation $x^2 + y^2 < r^2,$ which would indicate a point should be added to the $N_\\mathrm{in}$ counter."
   ]
  },
  {
   "cell_type": "code",
   "execution_count": null,
   "id": "a612af26-eb86-4259-8218-c17c91aca671",
   "metadata": {
    "tags": []
   },
   "outputs": [],
   "source": [
    "import numpy as np"
   ]
  },
  {
   "cell_type": "code",
   "execution_count": null,
   "id": "fe3e5cc3-80d2-4253-840f-53456f2886d8",
   "metadata": {
    "tags": []
   },
   "outputs": [],
   "source": [
    "np.random.seed(123)\n",
    "\n",
    "# Take N random points\n",
    "# N should be a reasonably large number\n",
    "N = int(1e5)\n",
    "\n",
    "# Sample points in the 2d square between -1 and 1. Note the scaling and shifting factors due\n",
    "# to the domain of np.random.random being [0, 1).\n",
    "X = np.random.random(size=(N, 2)) * 2 - 1"
   ]
  },
  {
   "cell_type": "markdown",
   "id": "a657909c-9a4d-4d45-ae16-4612f2e29ae8",
   "metadata": {},
   "source": [
    "`X` represents an `(N, 2)` array where the first column is $x$ and the second column is $y.$ Lets figure out which points fall within the circle with a simple boolean comparison."
   ]
  },
  {
   "cell_type": "code",
   "execution_count": null,
   "id": "ae356365-b367-4880-a35a-f56931d43da4",
   "metadata": {
    "tags": []
   },
   "outputs": [],
   "source": [
    "circle_radius = 1.0\n",
    "in_circle = (X**2).sum(axis=1) < circle_radius**2  # make sure you understand this line!\n",
    "where = np.where(in_circle)[0]"
   ]
  },
  {
   "cell_type": "markdown",
   "id": "157ef5b0-0b26-4637-ace8-b5e3acf1b30d",
   "metadata": {},
   "source": [
    "`np.where` extracts the indexes upon which the condition is true. This means that $N_\\mathrm{in}$ is actually `len(where)` above. As such, we now have all the information to compute the area of the circle. We know from the analytic result that in fact, $A = \\pi,$ since $r=1.$"
   ]
  },
  {
   "cell_type": "code",
   "execution_count": null,
   "id": "27a3b1db-e348-42f8-8c73-98a32aed0fbb",
   "metadata": {
    "tags": []
   },
   "outputs": [],
   "source": [
    "4.0 * len(where) / N  # looks pretty close "
   ]
  },
  {
   "cell_type": "markdown",
   "id": "77d2c698-421d-4e89-aa36-447d36cf95c0",
   "metadata": {},
   "source": [
    "Let's now visualize these points."
   ]
  },
  {
   "cell_type": "code",
   "execution_count": null,
   "id": "b1e0fc84-6044-4803-9d96-25a7c1ff0a88",
   "metadata": {
    "tags": []
   },
   "outputs": [],
   "source": [
    "where_not = np.where(~in_circle)[0]  # What am I doing here? Figure it out!"
   ]
  },
  {
   "cell_type": "code",
   "execution_count": null,
   "id": "12d59f44-c8e9-47ef-b311-cdd7cf49ea8a",
   "metadata": {
    "tags": []
   },
   "outputs": [],
   "source": [
    "fig, ax = plt.subplots(1, 1, figsize=(2, 2))\n",
    "make_circle(ax)\n",
    "set_axes_properties(ax)\n",
    "size = 0.01\n",
    "alpha = 0.5\n",
    "ax.scatter(X[where, 0], X[where, 1], s=size, alpha=alpha, color=\"blue\")\n",
    "ax.scatter(X[where_not, 0], X[where_not, 1], s=size, alpha=alpha, color=\"red\")\n",
    "plt.show()"
   ]
  },
  {
   "cell_type": "markdown",
   "id": "fa0cc412-0466-4054-88d5-18a390b97c14",
   "metadata": {},
   "source": [
    "Above, blue points are in the circle, and red points are out of the circle. "
   ]
  },
  {
   "cell_type": "markdown",
   "id": "4a9f46c0-c9a9-4d0c-a81d-21df6a919ed9",
   "metadata": {},
   "source": [
    "## Convergence of Monte Carlo methods"
   ]
  },
  {
   "cell_type": "markdown",
   "id": "27a3c9a6-d8f9-4e4b-9618-d190c554a3e6",
   "metadata": {},
   "source": [
    "Can we systematically test how close our approximation is? The real question is how fast does the approximated result from MC approach the true result? We can use a basic evaluation metric, the relative error, to test this as a function of $N$."
   ]
  },
  {
   "cell_type": "code",
   "execution_count": null,
   "id": "97045144-76cd-42d3-ba53-d9035efaa86c",
   "metadata": {
    "tags": []
   },
   "outputs": [],
   "source": [
    "def relative_error(N, seed=123):\n",
    "    \"\"\"Calculates the relative error of the Monte Carlo approximation with respect to\n",
    "    the true answer.\"\"\"\n",
    "    \n",
    "    circle_radius = 1.0\n",
    "    \n",
    "    if seed is not None:\n",
    "        np.random.seed(seed)\n",
    "        \n",
    "    X = np.random.random(size=(N, 2)) * 2 - 1\n",
    "    \n",
    "    in_circle = (X**2).sum(axis=1) < circle_radius**2\n",
    "    where = np.where(in_circle)[0]\n",
    "    \n",
    "    approximation = 4.0 * len(where) / N\n",
    "    \n",
    "    return np.abs(approximation - np.pi) / np.pi"
   ]
  },
  {
   "cell_type": "code",
   "execution_count": null,
   "id": "dda9c574-df66-45ee-9938-70f1d16354fd",
   "metadata": {
    "tags": []
   },
   "outputs": [],
   "source": [
    "N_values = 10**np.arange(1, 9)"
   ]
  },
  {
   "cell_type": "code",
   "execution_count": null,
   "id": "3c9e2a53-34ba-4262-b8e7-996ee579de18",
   "metadata": {
    "tags": []
   },
   "outputs": [],
   "source": [
    "rel_errors = np.array([relative_error(n) for n in N_values])"
   ]
  },
  {
   "cell_type": "markdown",
   "id": "ab941bba-22f3-49a6-b9dc-f4a48cecbf25",
   "metadata": {
    "tags": []
   },
   "source": [
    "We can plot these relative errors as a function of $N$ and figure out how the error \"scales\" with the number of sampled points."
   ]
  },
  {
   "cell_type": "code",
   "execution_count": null,
   "id": "cc7d4107-f350-4079-a6f8-3c5a784bff42",
   "metadata": {
    "tags": []
   },
   "outputs": [],
   "source": [
    "fig, ax = plt.subplots(1, 1, figsize=(4, 3))\n",
    "\n",
    "ax.plot(N_values, rel_errors, \"ko-\")\n",
    "\n",
    "log_grid = np.logspace(np.log10(N_values.min()), np.log10(N_values.max()), 100)\n",
    "ax.plot(log_grid, 1.0 / np.sqrt(log_grid), linestyle=\"--\", color=\"red\")\n",
    "\n",
    "ax.set_yscale(\"log\")\n",
    "ax.set_xscale(\"log\")\n",
    "\n",
    "ax.set_ylabel(\"Relative Error\")\n",
    "ax.set_xlabel(\"$N$\")\n",
    "\n",
    "plt.show()"
   ]
  },
  {
   "cell_type": "markdown",
   "id": "4f3a4025-a565-4f54-afdf-eba0b4187331",
   "metadata": {},
   "source": [
    "It turns out that the error in all MC methods scales like $1/\\sqrt{N}.$"
   ]
  }
 ],
 "metadata": {
  "kernelspec": {
   "display_name": "Python 3 (ipykernel)",
   "language": "python",
   "name": "python3"
  },
  "language_info": {
   "codemirror_mode": {
    "name": "ipython",
    "version": 3
   },
   "file_extension": ".py",
   "mimetype": "text/x-python",
   "name": "python",
   "nbconvert_exporter": "python",
   "pygments_lexer": "ipython3",
   "version": "3.11.0"
  }
 },
 "nbformat": 4,
 "nbformat_minor": 5
}
