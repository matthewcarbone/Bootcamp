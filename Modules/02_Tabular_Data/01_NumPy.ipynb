{
 "cells": [
  {
   "cell_type": "markdown",
   "id": "4f794b95-c3a7-4900-8b29-5f0d9da8277b",
   "metadata": {},
   "source": [
    "# Introduction to NumPy"
   ]
  },
  {
   "cell_type": "markdown",
   "id": "5084b85e-4141-4fdc-a9b9-1c5d8c2afb91",
   "metadata": {},
   "source": [
    "_This notebook was originally written by [Matthew R. Carbone](https://www.bnl.gov/staff/mcarbone) for the [AIMS Tutorial Series](https://github.com/AIMLWG/AIML-tutorials) at Brookhaven National Lab._"
   ]
  },
  {
   "cell_type": "markdown",
   "id": "467ce3ba-7c37-48f7-990e-344c90622b0a",
   "metadata": {},
   "source": [
    "In this notebook, we introduce the premier scientific computing package in Python: NumPy, which stands for \"numerical python.\" NumPy's website can be found here: https://numpy.org/. Its code is open source, which means you can actually _read_ all of the code that makes up the library. You can find NumPy's maintained open source distribution on GitHub, here: https://github.com/numpy/numpy."
   ]
  },
  {
   "cell_type": "markdown",
   "id": "10c08ba6-6e54-466b-81c8-8e94401cc319",
   "metadata": {
    "tags": []
   },
   "source": [
    "# A note on loading packages in Python"
   ]
  },
  {
   "cell_type": "markdown",
   "id": "8ebde2ce-f121-4cb1-ba4e-89955c89e44d",
   "metadata": {},
   "source": [
    "You may have noticed from previous notebooks that certain things \"just work.\" For example, if I want to \"cast\" the float `8.2` to an integer, I can just use `int(8.2)`, which ultimately gives me the integer `8`. What is `int()`? It is actually a function that is defined in the Python **standard library**. Essentially, the distribution of Python itself defines many simple functions and classes that you can use, and are pre-loaded \"out of the box.\" There are also parts of Python's standard library that you have to load yourself. For example, if you want to access some simple mathematical functions, you'll need the `math` library, which you can import like so:"
   ]
  },
  {
   "cell_type": "code",
   "execution_count": null,
   "id": "0632d4b3-b04f-46c8-ae60-ac9cf87817b4",
   "metadata": {
    "tags": []
   },
   "outputs": [],
   "source": [
    "import math"
   ]
  },
  {
   "cell_type": "markdown",
   "id": "19c6fdfb-a03b-449f-8cec-eacb0aab93fc",
   "metadata": {},
   "source": [
    "Now we have access to all of the functions, classes, etc. that are defined in the `math` library. For example:"
   ]
  },
  {
   "cell_type": "code",
   "execution_count": null,
   "id": "2c9f7150-41ec-4425-ae95-b897d201306b",
   "metadata": {
    "tags": []
   },
   "outputs": [],
   "source": [
    "math.sin(math.pi)  # numerically this is zero"
   ]
  },
  {
   "cell_type": "markdown",
   "id": "0bb510fd-5738-45ca-b4ce-c8c28a1a26b6",
   "metadata": {},
   "source": [
    "Now, the NumPy library is not part of the standard library. It must be downloaded and installed separately. Depending on where you're running this notebook, it is possible NumPy is already installed. For instance:\n",
    "\n",
    "* If you're running on a Google Colab instance, NumPy is already installed and can be accessed.\n",
    "* If you're running on a local machine, and you have not installed NumPy using something like `pip install numpy`, it will not be available.\n",
    "\n",
    "You can ultimately always check and see if the current environment you're working in has access to a library by trying to import it. It is assumed that we will be working in Google Colab for now, but just in case, feel free to run the command using the ! \"magic,\" which actually calls out to a new shell in the notebook, allowing you a command line-like interface without having to leave the notebook. Give it a try:"
   ]
  },
  {
   "cell_type": "code",
   "execution_count": null,
   "id": "6a39d9fb-e7c2-4237-81f0-139d87164b94",
   "metadata": {},
   "outputs": [],
   "source": [
    "!pip install numpy"
   ]
  },
  {
   "cell_type": "markdown",
   "id": "6908e6fe-da31-4bac-a835-5a80c9b50a76",
   "metadata": {},
   "source": [
    "Once you are confident NumPy is installed, you can import it. You can do `import numpy` but traditionally, we create an alias for numpy by doing:"
   ]
  },
  {
   "cell_type": "code",
   "execution_count": null,
   "id": "8cb83541-d6cb-4b96-8d52-42eb6d793f65",
   "metadata": {
    "tags": []
   },
   "outputs": [],
   "source": [
    "import numpy as np"
   ]
  },
  {
   "cell_type": "markdown",
   "id": "298c9c34-9a48-4ee8-8059-f0337418af19",
   "metadata": {},
   "source": [
    "Just to make our lives a bit easier and so we don't have to constantly type \"numpy\". Now, instead of, for example `numpy.array`, we can just use `np.array`."
   ]
  },
  {
   "cell_type": "markdown",
   "id": "6802883f-38ec-47fa-b36c-a4d400d2a27a",
   "metadata": {},
   "source": [
    "# Introduction to NumPy and its core objects"
   ]
  },
  {
   "cell_type": "markdown",
   "id": "d9cab793-427e-4b2a-8b67-ec824d07181e",
   "metadata": {},
   "source": [
    "So, what is NumPy, and why do we care? There are two primary reasons (and you can find a more detailed breakdown on NumPy's [homepage](https://numpy.org/)):\n",
    "\n",
    "* **Performance**: It is worth noting that many operations in Python are slow. At a very conceptual level, a lot of work that otherwise happens during _compiling_ your code in other languages, like C, happen at runtime in Python. NumPy is essentially a wrapper for compiled C code, allowing for both the flexibility and readability of Python _and_ the speed of compiled code.\n",
    "* **Numerical computing tools**: NumPy offers multiple convenience objects, like the array, that have many useful operations baked into them. These include simple operations (such as element-wise adding and multiplication) and complex ones from linear algebra.\n",
    "\n",
    "The primary purpose of this module is to explore the basics of these computing tools."
   ]
  },
  {
   "cell_type": "markdown",
   "id": "39741b22-0afe-41f4-9fd3-99e8ba39e9e7",
   "metadata": {},
   "source": [
    "## The array"
   ]
  },
  {
   "cell_type": "markdown",
   "id": "43004704-cfab-45e6-9810-8fdf4b2d8841",
   "metadata": {},
   "source": [
    "Note that details on the NumPy array can be found in the NumPy documentation, [here](https://numpy.org/doc/stable/user/absolute_beginners.html#more-information-about-arrays).\n",
    "\n",
    "The `np.array` is the bread and butter of everything in NumPy. It also serves as the foundation for more complicated objects, such as the PyTorch tensor, which allow for automatic machine learning operations such as automatic differentiation. Overall, if you understand the syntax of NumPy, you can understand the syntax of any other array-like object in Python.\n",
    "\n",
    "The easiest way to create an array is from a list, let's give that a try:"
   ]
  },
  {
   "cell_type": "code",
   "execution_count": null,
   "id": "d3293642-56aa-4fa3-85cb-26dcb04e4e70",
   "metadata": {
    "tags": []
   },
   "outputs": [],
   "source": [
    "my_list = [1, 2, 3]\n",
    "my_array = np.array(my_list)\n",
    "print(f\"The content of my_array: {my_array}, the type of my_array: {type(my_array)}\")"
   ]
  },
  {
   "cell_type": "markdown",
   "id": "20b53f66-bd20-4a03-b861-181fe8c90daa",
   "metadata": {},
   "source": [
    "You can see immediately that the list and the array largely look the same. There's one interesting subtlety to note even at this point. What types of objects is NumPy storing? You can access that information with the `dtype` property:"
   ]
  },
  {
   "cell_type": "code",
   "execution_count": null,
   "id": "dd9863ff-2784-408b-9b66-aabd7a7226c1",
   "metadata": {
    "tags": []
   },
   "outputs": [],
   "source": [
    "my_array.dtype"
   ]
  },
  {
   "cell_type": "markdown",
   "id": "1980938b-02a3-4e0c-b81e-7b2c519c33bf",
   "metadata": {},
   "source": [
    "These are integers, particularly int64's (a 64-bit signed integer). You might recall that in Python, a list can have multiple different types in them. What happens if you try to initialize a NumPy array from a list that has different typed objects in it? Let's start with an int and float:"
   ]
  },
  {
   "cell_type": "code",
   "execution_count": null,
   "id": "9842c91d-6ada-45f8-a992-eca804f65bf0",
   "metadata": {
    "tags": []
   },
   "outputs": [],
   "source": [
    "my_list = [1.0, 2, 3]\n",
    "my_array = np.array(my_list)\n",
    "print(f\"The content of my_array: {my_array}, the type of my_array: {type(my_array)} ({my_array.dtype})\")"
   ]
  },
  {
   "cell_type": "markdown",
   "id": "09ac2845-593d-4f62-9d3e-05617f5f09fb",
   "metadata": {},
   "source": [
    "NumPy is smart. It noticed that all of the elements in the array were compatible, and that the \"most common\" type of object it can use to represent the data is a 64-bit floating point number. Hence, it cast every element of the original list to that type."
   ]
  },
  {
   "cell_type": "code",
   "execution_count": null,
   "id": "fa3df80f-aa06-461e-9694-c3d0e39faff8",
   "metadata": {
    "tags": []
   },
   "outputs": [],
   "source": [
    "my_list = [1.0, 2, 3, \"4\"]\n",
    "my_array = np.array(my_list)\n",
    "print(f\"The content of my_array: {my_array}, the type of my_array: {type(my_array)} ({my_array.dtype})\")"
   ]
  },
  {
   "cell_type": "markdown",
   "id": "a07165bb-59f3-4d27-afbf-12cb170ca9f0",
   "metadata": {},
   "source": [
    "Something weird now. U32 is a unicode string. Once again, NumPy has made an opinionated choice about what type to cast all elements in the array to. Beware, this might not be the behavior you intend! You should also note that you can attempt to force NumPy to pick a specific type for its array. For example:"
   ]
  },
  {
   "cell_type": "code",
   "execution_count": null,
   "id": "928c4469-6486-4295-bb5b-0127f4c936bd",
   "metadata": {
    "tags": []
   },
   "outputs": [],
   "source": [
    "my_list = [1.0, 2, 3, \"4\"]\n",
    "my_array = np.array(my_list, dtype=np.int64)\n",
    "print(f\"The content of my_array: {my_array}, the type of my_array: {type(my_array)} ({my_array.dtype})\")"
   ]
  },
  {
   "cell_type": "markdown",
   "id": "c490b030-9362-4f43-aa58-4f389d05698f",
   "metadata": {},
   "source": [
    "But of course, you might not always succeed if you try to cast, for example, the letter \"a\" to an int!"
   ]
  },
  {
   "cell_type": "code",
   "execution_count": null,
   "id": "5db1fa5e-10f1-47ef-88fe-2fa8616c3137",
   "metadata": {
    "tags": []
   },
   "outputs": [],
   "source": [
    "np.array([1.0, 2, 3, \"a\"], dtype=np.int64)"
   ]
  },
  {
   "cell_type": "markdown",
   "id": "5494be2d-f23b-49b4-b45f-b8d667b09fd1",
   "metadata": {},
   "source": [
    "## Accessing elements of arrays"
   ]
  },
  {
   "cell_type": "markdown",
   "id": "8cc1916d-baa2-4968-bc4c-f5ccba21aa50",
   "metadata": {},
   "source": [
    "To access the elements of a NumPy array, we can use familiar syntax to lists. Similar to lists, you should remember that Python is a 0-indexed language. In other words, the first element of an array will be accessed using index `0`."
   ]
  },
  {
   "cell_type": "code",
   "execution_count": null,
   "id": "9a9f01a1-74fc-4f3f-baf1-b333f931b9f6",
   "metadata": {
    "tags": []
   },
   "outputs": [],
   "source": [
    "my_array = [-1, 3, 5]\n",
    "print(f\"The first element of my_array is {my_array[0]}\")"
   ]
  },
  {
   "cell_type": "markdown",
   "id": "7f450955-9e11-477e-8a6d-f985ada985f7",
   "metadata": {},
   "source": [
    "Trying to access an element out-of-bounds will expectedly lead to an error."
   ]
  },
  {
   "cell_type": "code",
   "execution_count": null,
   "id": "fd119e35-91cd-4a61-acea-39e4d1899e48",
   "metadata": {
    "tags": []
   },
   "outputs": [],
   "source": [
    "my_array[4]"
   ]
  },
  {
   "cell_type": "markdown",
   "id": "6ac73a6c-aa47-49df-b5b4-3abecd5e9fea",
   "metadata": {},
   "source": [
    "And note that, similar to lists, you can access arrays in \"reverse order\" by using negative indexes."
   ]
  },
  {
   "cell_type": "code",
   "execution_count": null,
   "id": "4a923c48-c3d6-4755-b515-7814a5624a7d",
   "metadata": {
    "tags": []
   },
   "outputs": [],
   "source": [
    "my_array = [-1, 3, 5, 7, 9]\n",
    "print(f\"The second-to-last element of my_array is {my_array[-2]}\")"
   ]
  },
  {
   "cell_type": "markdown",
   "id": "9214bc91-b2a5-4c15-89a1-b1e6899e11fd",
   "metadata": {},
   "source": [
    "## Initializing the array in different ways"
   ]
  },
  {
   "cell_type": "markdown",
   "id": "137be090-3cff-4def-90fe-83a3c14ea072",
   "metadata": {},
   "source": [
    "There are far more ways to initialize a NumPy array than from a list. Of particular note are the various methods NumPy itself has defined for us. Let's take a look at a few: `np.arange`, `np.linspace`, and `np.random.random`.\n",
    "\n",
    "Note that it is highly recommended that when you're using a new function or method, you look at that object's docstring. The docstring is essentially documentation that the developer has put with the code itself, and should provide information on the object's parameters, use cases and what it might return if it's a function or method. You can access the docstring by putting a \"?\" after the object in a Jupyter Notebook. For example, you might want to give this: `np.arange?` a try."
   ]
  },
  {
   "cell_type": "markdown",
   "id": "fb504f1c-9800-42b9-953d-e72c5c82462c",
   "metadata": {},
   "source": [
    "The `np.arange` function expects integer inputs and produces an integer grid from the first value passed to one less than the last value passed. For example:"
   ]
  },
  {
   "cell_type": "code",
   "execution_count": null,
   "id": "5b3f34ad-b0d1-478a-9b38-cdee0cae75d2",
   "metadata": {
    "tags": []
   },
   "outputs": [],
   "source": [
    "my_array = np.arange(3, 10)\n",
    "print(my_array)"
   ]
  },
  {
   "cell_type": "markdown",
   "id": "1c76d247-53fc-405b-95c5-ba377b2b7b05",
   "metadata": {},
   "source": [
    "The `np.linspace` function produces an evenly spaced grid from the first to the second values passed, with the third value indicating how many points to take on the grid. For example:"
   ]
  },
  {
   "cell_type": "code",
   "execution_count": null,
   "id": "a40b51ed-1b30-4cb0-86b1-df102d245566",
   "metadata": {
    "tags": []
   },
   "outputs": [],
   "source": [
    "my_array = np.linspace(5, 8, 6)\n",
    "print(my_array)"
   ]
  },
  {
   "cell_type": "markdown",
   "id": "f3c98796-0f6c-4867-a17b-ceafed6393da",
   "metadata": {},
   "source": [
    "Finally, `np.random.random` produces random values on the half-open iterval $[0, 1)$."
   ]
  },
  {
   "cell_type": "code",
   "execution_count": null,
   "id": "f671417e-1e20-4ccd-8b76-18db23825a9b",
   "metadata": {
    "tags": []
   },
   "outputs": [],
   "source": [
    "np.random.seed(123)  # what's this for?\n",
    "my_array = np.random.random(5)\n",
    "print(my_array)"
   ]
  },
  {
   "cell_type": "markdown",
   "id": "5cdcfe73-80da-4d17-9baa-5a817a170df4",
   "metadata": {},
   "source": [
    "You might imagine that each of these methods for creating an array has its advantages and disadvantages, and each might be applicable in different use cases."
   ]
  },
  {
   "cell_type": "markdown",
   "id": "b96a3111-f427-474d-977d-dacf2dc4d537",
   "metadata": {},
   "source": [
    "## Arrays are multidimensional"
   ]
  },
  {
   "cell_type": "markdown",
   "id": "5d3e2600-75a3-4c6f-8a38-24f9c95784dd",
   "metadata": {},
   "source": [
    "So far, we've only dealt with one-dimensional arrays, but NumPy is designed to handle arrays of arbitrary dimension. For example, an array of dimension 2 is a matrix and can be initialized using a list of lists. Here's two examples."
   ]
  },
  {
   "cell_type": "code",
   "execution_count": null,
   "id": "5d69526a-a2d3-4eb1-88c7-74becea00d34",
   "metadata": {
    "tags": []
   },
   "outputs": [],
   "source": [
    "arr = np.array([\n",
    "    [1, 2],\n",
    "    [3, 4]\n",
    "])\n",
    "print(\"I am a 2d array\")\n",
    "arr"
   ]
  },
  {
   "cell_type": "code",
   "execution_count": null,
   "id": "b003184c-6c73-46bd-9704-64eb54d5bcc7",
   "metadata": {
    "tags": []
   },
   "outputs": [],
   "source": [
    "arr = np.array([\n",
    "    [1, 2, 3],\n",
    "    [4, 5, 6],\n",
    "    [7, 8, 9]\n",
    "])\n",
    "print(\"I am a 3d array\")\n",
    "arr"
   ]
  },
  {
   "cell_type": "markdown",
   "id": "9f3c3bc2-e2b6-488f-98ea-8ecca0f77463",
   "metadata": {},
   "source": [
    "We can also utilize the `shape` property to get valuable information on the... shape of the array."
   ]
  },
  {
   "cell_type": "code",
   "execution_count": null,
   "id": "c43a3124-6325-4be9-9df5-e4c392ef0afa",
   "metadata": {
    "tags": []
   },
   "outputs": [],
   "source": [
    "print(arr.shape)"
   ]
  },
  {
   "cell_type": "markdown",
   "id": "f04d4153-2a99-45e1-8c63-19d4a6188854",
   "metadata": {},
   "source": [
    "Arrays need not be symmetrical."
   ]
  },
  {
   "cell_type": "code",
   "execution_count": null,
   "id": "d519def3-fc30-4438-b944-b05085c9e018",
   "metadata": {
    "tags": []
   },
   "outputs": [],
   "source": [
    "np.random.seed(123)\n",
    "arr = np.random.random(size=(3, 2, 5))\n",
    "print(arr.shape)"
   ]
  },
  {
   "cell_type": "markdown",
   "id": "2156eee6-1131-4dab-b1e1-ec7d1bc2126f",
   "metadata": {},
   "source": [
    "## Accessing elements of multi-dimensional arrays"
   ]
  },
  {
   "cell_type": "markdown",
   "id": "c9209e68-4e8b-4e95-96c8-22d5849b548e",
   "metadata": {},
   "source": [
    "Accessing the elements of a multi-dimensional array in NumPy is a simple extension of accessing the element of a list in Python. For example, in the array above, to access the 0th element along the 1st axis, the 1st element along the 2nd axis and the last element of the last axis, we can do:"
   ]
  },
  {
   "cell_type": "code",
   "execution_count": null,
   "id": "f8bb0747-66d1-4d69-82a2-875c04ed2ac7",
   "metadata": {
    "tags": []
   },
   "outputs": [],
   "source": [
    "arr[0, 1, -1]"
   ]
  },
  {
   "cell_type": "markdown",
   "id": "c1835d50-9655-4bde-9d7d-f9f7f692d04a",
   "metadata": {},
   "source": [
    "# Basic operations in NumPy"
   ]
  },
  {
   "cell_type": "markdown",
   "id": "8a84f940-1617-4270-a51d-14a54f8289fe",
   "metadata": {},
   "source": [
    "## Element-wise operations"
   ]
  },
  {
   "cell_type": "markdown",
   "id": "7d0368c6-895c-4f43-a91d-ef4c2613b9ff",
   "metadata": {},
   "source": [
    "So now that we have arrays, what can we do with them? Let's take a look at a few examples. To start, we consider the simple array below."
   ]
  },
  {
   "cell_type": "code",
   "execution_count": null,
   "id": "72439177-cb4f-4d7d-8b3c-629d19bc219f",
   "metadata": {
    "tags": []
   },
   "outputs": [],
   "source": [
    "arr = np.array([[1, 2, 3], [4, 5, 6]])\n",
    "arr"
   ]
  },
  {
   "cell_type": "markdown",
   "id": "3c8ca98b-f997-4564-9b1e-c7f01fe3659a",
   "metadata": {},
   "source": [
    "Imagine you were tasked with adding 1 to each element of the array. You might consider running a for loop over each axis of the array, accessing each element, and adding 1 to it. Such a solution might look like this:"
   ]
  },
  {
   "cell_type": "code",
   "execution_count": null,
   "id": "674934c1-73f4-4659-aab4-86441620d4ad",
   "metadata": {
    "tags": []
   },
   "outputs": [],
   "source": [
    "for ii in range(arr.shape[0]):\n",
    "    for jj in range(arr.shape[1]):\n",
    "        arr[ii, jj] += 1  # New idea, what's the += doing?\n",
    "arr"
   ]
  },
  {
   "cell_type": "markdown",
   "id": "b44752df-aab2-4788-b12a-f417b43000bd",
   "metadata": {},
   "source": [
    "This solution works fine, but there are two problems lurking. One is obvious, the other not so much.\n",
    "\n",
    "1. The obvious problem is that this is not very scalable. What happens if you have a 3-dimensional array? You'd have to write yet another for loop. This can get tedious very quickly.\n",
    "2. The not-so-obvious problem is that this is actually incredibly _slow_. You don't notice because the for loops are tiny, but if you have a very large array, this will be very slow because it's written in Python. The NumPy version of this, while it looks simpler, is actually accessing compiled C code, which is very fast.\n",
    "\n",
    "It might surprise you then that the NumPy version, which again is very fast, is a single simple line of code."
   ]
  },
  {
   "cell_type": "code",
   "execution_count": null,
   "id": "f8146456-4087-4547-ab1c-0778fd66e577",
   "metadata": {
    "tags": []
   },
   "outputs": [],
   "source": [
    "arr = np.array([[1, 2, 3], [4, 5, 6]])\n",
    "arr + 1"
   ]
  },
  {
   "cell_type": "markdown",
   "id": "b7c4b419-054c-4887-8e95-f2f0f1c638c2",
   "metadata": {},
   "source": [
    "This is called an **element-wise operation**. An element-wise operation is one that, as its name suggests, operates on every element in the same way. NumPy has quite a few of these. Here's an inexhaustive list."
   ]
  },
  {
   "cell_type": "code",
   "execution_count": null,
   "id": "ad99caa5-313d-4311-9ee1-075f74124b23",
   "metadata": {
    "tags": []
   },
   "outputs": [],
   "source": [
    "# Addition (just did this)\n",
    "arr + 1"
   ]
  },
  {
   "cell_type": "code",
   "execution_count": null,
   "id": "4acb8d3e-5dc6-4e07-b99c-480d8424ef44",
   "metadata": {
    "tags": []
   },
   "outputs": [],
   "source": [
    "# Subtraction\n",
    "arr - 1"
   ]
  },
  {
   "cell_type": "code",
   "execution_count": null,
   "id": "4e08f039-0ca3-408a-9d8e-5a5013fa8faf",
   "metadata": {
    "tags": []
   },
   "outputs": [],
   "source": [
    "# Multiplication\n",
    "arr * 2"
   ]
  },
  {
   "cell_type": "code",
   "execution_count": null,
   "id": "97f7dfcb-8cb7-45ba-b5f1-69f5a60b8a78",
   "metadata": {
    "tags": []
   },
   "outputs": [],
   "source": [
    "# Division\n",
    "arr / 2"
   ]
  },
  {
   "cell_type": "code",
   "execution_count": null,
   "id": "b06079f5-e35b-4017-a3c5-e8f83444642d",
   "metadata": {
    "tags": []
   },
   "outputs": [],
   "source": [
    "# Integer division\n",
    "arr // 2  # What's going on here?"
   ]
  },
  {
   "cell_type": "code",
   "execution_count": null,
   "id": "7fa21cf9-90a8-4237-a2f6-bf48f2c7725d",
   "metadata": {
    "tags": []
   },
   "outputs": [],
   "source": [
    "# Raise-to-power\n",
    "arr**2"
   ]
  },
  {
   "cell_type": "code",
   "execution_count": null,
   "id": "f915d006-13b0-4624-82e5-b8b8f7933421",
   "metadata": {
    "tags": []
   },
   "outputs": [],
   "source": [
    "# Sine operation (applies sine function to all elements)\n",
    "np.sin(arr)"
   ]
  },
  {
   "cell_type": "code",
   "execution_count": null,
   "id": "c2155d2d-acd6-4bad-b5af-c47ae0f3f110",
   "metadata": {
    "tags": []
   },
   "outputs": [],
   "source": [
    "# Inverse tangent operation\n",
    "np.arctan(arr)"
   ]
  },
  {
   "cell_type": "code",
   "execution_count": null,
   "id": "9d399238-5db1-4a9d-b1be-d3ef74d37df9",
   "metadata": {
    "tags": []
   },
   "outputs": [],
   "source": [
    "# Log operation (applies natural log function to all elements)\n",
    "np.log(arr)"
   ]
  },
  {
   "cell_type": "code",
   "execution_count": null,
   "id": "2e412c8a-9d93-46a8-aa87-fe7dfd2402b4",
   "metadata": {
    "tags": []
   },
   "outputs": [],
   "source": [
    "# Boolean comparison\n",
    "arr == 1"
   ]
  },
  {
   "cell_type": "markdown",
   "id": "acbdc897-877e-4d3f-8586-87e650e902f7",
   "metadata": {},
   "source": [
    "## Slicing"
   ]
  },
  {
   "cell_type": "markdown",
   "id": "8a83c5b2-04f7-4e54-bc4f-0290579f2018",
   "metadata": {},
   "source": [
    "[Array slicing](https://numpy.org/doc/stable/user/basics.indexing.html#slicing-and-striding) is an incredibly important operation for returning a part of an array. It is worth working through the linked documentation, but here we will provide a basic introduction.\n",
    "\n",
    "Consider the same array as before. How do we access the first two columns only? NumPy slicing logic works in the same way as Python's except it can be applied to every dimension:"
   ]
  },
  {
   "cell_type": "code",
   "execution_count": null,
   "id": "34ba6b09-d133-4981-82bd-36a623489190",
   "metadata": {
    "tags": []
   },
   "outputs": [],
   "source": [
    "arr[:, :2]"
   ]
  },
  {
   "cell_type": "markdown",
   "id": "ed434f4a-c28f-44e8-ac40-ab2e5555da9c",
   "metadata": {},
   "source": [
    "Above, the `:` says \"take this entire dimension, and the `:2` says take up to but _excluding_ the 2nd (remember that everything in Python is zero-indexed!).\n",
    "\n",
    "This is, essentially all there is to it at a basic level. We encourage you to check out the linked documentation above, and read the parts on indexing, slicing, advanced indexing, etc. There are a few other neat parts to this, such as the elipsis `...` and `np.newaxis`, which can be useful in some cases."
   ]
  },
  {
   "cell_type": "markdown",
   "id": "37a122d9-cfed-4ad7-9501-e8aeed0415b1",
   "metadata": {},
   "source": [
    "## Reshaping"
   ]
  },
  {
   "cell_type": "markdown",
   "id": "00caf001-8ad6-4df4-a2ca-029b5bafba28",
   "metadata": {},
   "source": [
    "It is often necessary to \"reshape\" NumPy arrays into other shapes. The reasons for doing this will be apparent later on, but for now, remember that `arr.shape` can access the shape of the `arr` NumPy array. The total number of elements of the array is the product of all elements of `arr.shape`, and any array can be reshaped into a new shape as long as the product of that new shape's elements equal the product of the previous shape's elements. This is best shown by example:"
   ]
  },
  {
   "cell_type": "code",
   "execution_count": null,
   "id": "1abf5611-1ea2-4c10-9287-a9377218d156",
   "metadata": {
    "tags": []
   },
   "outputs": [],
   "source": [
    "arr = np.array([[1, 2, 3], [4, 5, 6]])\n",
    "arr.shape"
   ]
  },
  {
   "cell_type": "markdown",
   "id": "64654d6c-9abf-409c-8be6-2529c76c9b9f",
   "metadata": {},
   "source": [
    "Note the initial shape of `arr` is `(2, 3)`, or a \"two by three\" matrix/array/tensor/etc."
   ]
  },
  {
   "cell_type": "code",
   "execution_count": null,
   "id": "810a7beb-bf65-4a7c-b72a-ffde475f6f83",
   "metadata": {
    "tags": []
   },
   "outputs": [],
   "source": [
    "arr2 = arr.reshape(3, 2)\n",
    "arr2"
   ]
  },
  {
   "cell_type": "code",
   "execution_count": null,
   "id": "d142b873-4ec7-449d-b8a8-0cf3ee73d304",
   "metadata": {
    "tags": []
   },
   "outputs": [],
   "source": [
    "arr2.shape"
   ]
  },
  {
   "cell_type": "markdown",
   "id": "5f5ef127-805d-4dc4-bcaa-3437668748b2",
   "metadata": {},
   "source": [
    "Now the new shape is `(3, 2)`. We have, through some procedure, modified the structure of the array itself. Is this procedure \"reversible\"? Let's see:"
   ]
  },
  {
   "cell_type": "code",
   "execution_count": null,
   "id": "b867733a-a801-4586-9440-c4bad5facf32",
   "metadata": {
    "tags": []
   },
   "outputs": [],
   "source": [
    "arr3 = arr.reshape(3, 2).reshape(2, 3)\n",
    "arr == arr3"
   ]
  },
  {
   "cell_type": "markdown",
   "id": "bd7a18f9-26f3-4688-8ebc-ef3e28452f51",
   "metadata": {},
   "source": [
    "Indeed it is. NumPy takes a standard convention with reshaping, which you can read more about [here](https://numpy.org/doc/stable/reference/generated/numpy.reshape.html). \n",
    "\n",
    "There is also another nice way to reshape, that is by using `-1` as an argument to `reshape`. Let's see what happens:"
   ]
  },
  {
   "cell_type": "code",
   "execution_count": null,
   "id": "0d2c347f-e884-4f44-a0cc-4bdecc51ef22",
   "metadata": {
    "tags": []
   },
   "outputs": [],
   "source": [
    "arr4 = arr.reshape(-1, 1)\n",
    "arr4"
   ]
  },
  {
   "cell_type": "markdown",
   "id": "39556285-4c60-4bd5-ac12-f71bece64c5b",
   "metadata": {},
   "source": [
    "The `-1` argument can be read as \"everything else\". It can only be used once. So, in the above case, `reshape` is transforming the array into an \"everything else by one\" array, where everything else is actually equal to 6."
   ]
  },
  {
   "cell_type": "markdown",
   "id": "faaa9f60-2c8d-40e8-9c35-5f33e31c889a",
   "metadata": {},
   "source": [
    "# Advanced operations"
   ]
  },
  {
   "cell_type": "markdown",
   "id": "649908f4-4d3d-45fc-bafe-22a21358d4c3",
   "metadata": {},
   "source": [
    "We now move on to more advanced operations which can be performed using NumPy. These operations will require a bit of background in statistics and linear algebra. As such, we will try to provide a brief, crash course-style review of the important concepts."
   ]
  },
  {
   "cell_type": "markdown",
   "id": "27688d0d-c15f-4f93-87ca-25a809b62575",
   "metadata": {},
   "source": [
    "## Statistics"
   ]
  },
  {
   "cell_type": "markdown",
   "id": "b827e99c-e685-4430-9ce0-9531b94376a1",
   "metadata": {},
   "source": [
    "Of course, where would we be without statistics? As you might expect, a NumPy array can at its most basic level be interpreted as a collection of numbers, and whenever we have collections of numbers, we are tempted to apply the tools of statistics. Here, we will briefly go over the mean, median, sum, standard deviation, and a few others. An exhaustive list of the NumPy statistics API can be found [here](https://numpy.org/doc/stable/reference/routines.statistics.html).\n",
    "\n",
    "Lets start by creating a test array. This array will simply be the sequence $\\{1^2, 2^2, ..., N^2\\},$ i.e., the list of squared integers.\n",
    "\n",
    "Our first few lines of code will be a combination of multiple concepts from earlier in this notebook. Make sure you understand everything that's going on before proceeding!"
   ]
  },
  {
   "cell_type": "code",
   "execution_count": null,
   "id": "bbf8fc09-af53-4098-b5b4-6f2b314688cb",
   "metadata": {
    "tags": []
   },
   "outputs": [],
   "source": [
    "N = 10\n",
    "arr = np.arange(1, N + 1)**2\n",
    "arr"
   ]
  },
  {
   "cell_type": "markdown",
   "id": "66f6164f-9153-4cb2-8a59-3f4152f499d5",
   "metadata": {},
   "source": [
    "Now for some statistics. What if we want to take the **mean** of this array? We can do this in Python for sure, but remember, as the array gets larger, this will be very slow."
   ]
  },
  {
   "cell_type": "code",
   "execution_count": null,
   "id": "db24221f-6750-4e2c-a45a-70cb5d847d2f",
   "metadata": {
    "tags": []
   },
   "outputs": [],
   "source": [
    "def compute_mean(arr):\n",
    "    \n",
    "    # s is a counter for the current value of the mean\n",
    "    s = 0\n",
    "    \n",
    "    # arr.flatten reshapes the array into a single dimension\n",
    "    for element in arr.flatten():\n",
    "        s += element\n",
    "    \n",
    "    # Note that arr.size gets the total number of elements in the array\n",
    "    return s / arr.size"
   ]
  },
  {
   "cell_type": "code",
   "execution_count": null,
   "id": "a04cb20b-d1de-4243-b78e-e983b358032d",
   "metadata": {
    "tags": []
   },
   "outputs": [],
   "source": [
    "mean = compute_mean(arr)\n",
    "mean"
   ]
  },
  {
   "cell_type": "markdown",
   "id": "0e4dc014-784f-4839-b7e5-980c66685f75",
   "metadata": {},
   "source": [
    "How to do this in NumPy? It's extremely simple:"
   ]
  },
  {
   "cell_type": "code",
   "execution_count": null,
   "id": "6a0a283c-d4f0-46aa-831b-fc7b684979a7",
   "metadata": {
    "tags": []
   },
   "outputs": [],
   "source": [
    "arr.mean() == mean"
   ]
  },
  {
   "cell_type": "markdown",
   "id": "8861af93-c7b6-45f9-a61c-8e8f5f3b6a54",
   "metadata": {},
   "source": [
    "That's it! Similarly, we can compute the **sum** over all elements via"
   ]
  },
  {
   "cell_type": "code",
   "execution_count": null,
   "id": "49371a37-17f4-4b8e-9f1f-321941d47541",
   "metadata": {
    "tags": []
   },
   "outputs": [],
   "source": [
    "arr.sum()"
   ]
  },
  {
   "cell_type": "markdown",
   "id": "b702ae86-205e-48f9-98d3-16faf4b1418e",
   "metadata": {},
   "source": [
    "As a quick reminder, the **standard deviation** is defined as\n",
    "\n",
    "$$ \\sigma = \\sqrt{\\frac{\\sum_{i=1}^N (x_i - \\mu)^2 }{N}}$$\n",
    "\n",
    "where $\\mu$ is the mean as calculated above. Let's combine a few pieces of knowledge from this notebook once more and efficiently compute the standard deviation of the array."
   ]
  },
  {
   "cell_type": "code",
   "execution_count": null,
   "id": "5b204c27-6f79-48cc-bf08-674e1367dacd",
   "metadata": {
    "tags": []
   },
   "outputs": [],
   "source": [
    "std = np.sqrt(((arr - arr.mean())**2).sum() / arr.size)"
   ]
  },
  {
   "cell_type": "markdown",
   "id": "21375a44-4f9b-49a1-aa4d-03b81c69adad",
   "metadata": {},
   "source": [
    "It's really important to note what every piece of the line of code above is doing. Take it one step at a time.\n",
    "* `arr.mean()` computes the mean of the `arr` object.\n",
    "* The mean is then subtracted, element-wise, from `arr`.\n",
    "* The square of this new array, `arr - arr.mean()` is then squared.\n",
    "* That is then summed.\n",
    "* That result is then divided by `N`, or the total number of elements in `arr`.\n",
    "* Finally, the square root of that result is taken.\n",
    "\n",
    "Of course, there is a much easier way to do this in NumPy:"
   ]
  },
  {
   "cell_type": "code",
   "execution_count": null,
   "id": "d8b81b37-36b9-44a3-a481-43b3498f97bf",
   "metadata": {
    "tags": []
   },
   "outputs": [],
   "source": [
    "arr.std() == std  # easy!"
   ]
  },
  {
   "cell_type": "markdown",
   "id": "3f9db459-6abd-4a40-9bef-2988ef31cc3e",
   "metadata": {},
   "source": [
    "The **median** is also simple, except there is no `median` method defined on the array object. Instead, we must manually call it."
   ]
  },
  {
   "cell_type": "code",
   "execution_count": null,
   "id": "74a12e61-52b2-4138-acd8-e97f58c19be1",
   "metadata": {
    "tags": []
   },
   "outputs": [],
   "source": [
    "np.median(arr)"
   ]
  },
  {
   "cell_type": "markdown",
   "id": "1dd93733-49d7-4666-9962-77de0a351ed8",
   "metadata": {},
   "source": [
    "## Linear algebra"
   ]
  },
  {
   "cell_type": "markdown",
   "id": "ffabca2a-911e-4d3f-891f-6a920848612b",
   "metadata": {},
   "source": [
    "This is an advanced section which isn't necessarily required on a first read. However, the reader should note that to fully understand some more advanced concepts in computer science, including machine learning, one must understand some linear algebra. We'll go over a few simple examples for now, while pointing the interested reader to NumPy's [linear algebra documentation](https://numpy.org/doc/stable/reference/routines.linalg.html)."
   ]
  },
  {
   "cell_type": "markdown",
   "id": "06a67f2b-d788-4ef6-b86c-3d5211714198",
   "metadata": {},
   "source": [
    "TK"
   ]
  },
  {
   "cell_type": "markdown",
   "id": "148774ab-484f-4485-b9d5-c6f1fe396a03",
   "metadata": {},
   "source": [
    "## Broadcasting"
   ]
  },
  {
   "cell_type": "markdown",
   "id": "02a424ea-e982-4bba-b4c5-1f88c36dac5f",
   "metadata": {},
   "source": [
    "Broadcasting is one of NumPy's most powerful built in tools. It essentially deals with how NumPy treats arrays of arbitrarily different shapes. There's really no better way to explain broadcasting for the first time than to show a few examples. For more details, check out NumPy's [broadcasting documentation](https://numpy.org/doc/stable/user/basics.broadcasting.html).\n",
    "\n",
    "A quick note: in the \"element wise operations\" section, you've already done the most basic form of broadcasting! NumPy has to figure out, for example, how to \"multiply\" an array and a number. It is not obvious at first what the behavior of this will be. For example, consider what happens when you multiply a standard Python list by an integer:"
   ]
  },
  {
   "cell_type": "code",
   "execution_count": null,
   "id": "3f28bc95-8d78-4b40-9d50-51bb778939ec",
   "metadata": {
    "tags": []
   },
   "outputs": [],
   "source": [
    "[1, 2, 3] * 3"
   ]
  },
  {
   "cell_type": "markdown",
   "id": "2a212841-0094-4255-aad8-181e95db4a7d",
   "metadata": {},
   "source": [
    "Not what you expected, right? That's because Python has defined list-integer multiplication differently than Numpy. As someone who is software savvy, you'll have to keep track of these subtleties!"
   ]
  },
  {
   "cell_type": "markdown",
   "id": "83a5a163-ce70-4cc1-af34-9d206c722f30",
   "metadata": {},
   "source": [
    "# Conclusion"
   ]
  },
  {
   "cell_type": "markdown",
   "id": "4d3b5b79-be6b-435a-9f8f-8b48aea79c12",
   "metadata": {},
   "source": [
    "In this notebook, we worked through a variety of examples which demonstrate the power of NumPy. With that said, you may not realize how powerful some of these functions and methods are until you see some examples. As such, we encourage you to work through some of the provided notebooks/problems in this repository!"
   ]
  }
 ],
 "metadata": {
  "kernelspec": {
   "display_name": "Python 3 (ipykernel)",
   "language": "python",
   "name": "python3"
  },
  "language_info": {
   "codemirror_mode": {
    "name": "ipython",
    "version": 3
   },
   "file_extension": ".py",
   "mimetype": "text/x-python",
   "name": "python",
   "nbconvert_exporter": "python",
   "pygments_lexer": "ipython3",
   "version": "3.11.0"
  }
 },
 "nbformat": 4,
 "nbformat_minor": 5
}
