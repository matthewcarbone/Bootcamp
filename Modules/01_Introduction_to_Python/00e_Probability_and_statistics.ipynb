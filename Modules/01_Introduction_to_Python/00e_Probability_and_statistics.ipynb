{
 "cells": [
  {
   "cell_type": "markdown",
   "id": "7f55bfcc-408c-4e7f-860b-148d058833df",
   "metadata": {},
   "source": [
    "# Python in a nutshell - Probability and statistics"
   ]
  },
  {
   "cell_type": "markdown",
   "id": "ac72069e-01d7-4120-a342-26a0a0a0d864",
   "metadata": {},
   "source": [
    "_Most of this content is based off of David Biersach's [SciComp101 course](https://github.com/dbiersach/scicomp101) on GitHub, check it out!_"
   ]
  },
  {
   "cell_type": "markdown",
   "id": "47a42fcb-ed49-4130-9a1f-97e4db60a2b8",
   "metadata": {},
   "source": [
    "This notebook contains multiple code-snippets which you will likely work through with an instructor. You're encouraged to run these cells yourself, modify the code, and experiment!"
   ]
  },
  {
   "cell_type": "markdown",
   "id": "c3466da3-7919-41fd-82f1-88367858f927",
   "metadata": {},
   "source": [
    "**Import packages used in this notebook**\n",
    "\n",
    "🚨 Note: you might have to install `numba` via `!pip install numba`, which you can do right from the notebook."
   ]
  },
  {
   "cell_type": "code",
   "execution_count": null,
   "id": "9db7f432-a4f9-462e-ac81-feef711a40cc",
   "metadata": {
    "id": "DTc1EXWE-oOz"
   },
   "outputs": [],
   "source": [
    "import collections\n",
    "import numpy as np\n",
    "import matplotlib.pyplot as plt\n",
    "import scipy\n",
    "from numba import njit"
   ]
  },
  {
   "cell_type": "markdown",
   "id": "a12f090a-1b8c-4230-bd31-92d42b289387",
   "metadata": {},
   "source": [
    "# Basic statistics"
   ]
  },
  {
   "cell_type": "markdown",
   "id": "3603c176-2949-4f6a-9fb8-593b8d84fd3a",
   "metadata": {
    "id": "4a0ojASiF_OI"
   },
   "source": [
    "**Set the numpy random number `seed` to 2016**"
   ]
  },
  {
   "cell_type": "code",
   "execution_count": null,
   "id": "a3edad05-978a-4123-bc90-04e73919726e",
   "metadata": {
    "id": "_xADIv9QGE7s"
   },
   "outputs": [],
   "source": [
    "np.random.seed(2016)"
   ]
  },
  {
   "cell_type": "markdown",
   "id": "e0fdce44-c54a-49de-a50f-572e23df898c",
   "metadata": {
    "id": "Mrwmz2Jt_FAl"
   },
   "source": [
    "**Create and display an array $a$ of 30 integers where each element is in the range [0,100]**"
   ]
  },
  {
   "cell_type": "code",
   "execution_count": null,
   "id": "bf753714-c873-427c-b981-1ef4d90971bd",
   "metadata": {
    "id": "fcLdJp_b_Ztc"
   },
   "outputs": [],
   "source": [
    "a = np.random.randint(1, 101, 30)\n",
    "a"
   ]
  },
  {
   "cell_type": "markdown",
   "id": "f1dbc10e-58af-4190-b623-5166bdbdf175",
   "metadata": {
    "id": "jYM_h1Bd-2vL"
   },
   "source": [
    "**Define a function `mean(s)` that returns the average of the values in the array $s$**\\\n",
    "then print the value returned by that function when passed array $a$"
   ]
  },
  {
   "cell_type": "code",
   "execution_count": null,
   "id": "2c17f4a1-ff3b-4517-af9a-3f68dabec9d9",
   "metadata": {
    "id": "qOgiPR5p--3C"
   },
   "outputs": [],
   "source": [
    "def mean(s):\n",
    "    return np.sum(s) / len(s)\n",
    "\n",
    "print(f\"{mean(a) = }\")"
   ]
  },
  {
   "cell_type": "markdown",
   "id": "bd1f6aa3-50a3-4fa7-88a0-83048a099bdc",
   "metadata": {
    "id": "2WTS17V6ANgV"
   },
   "source": [
    "**Define a function `median(s)` that returns the median value of the array $s$**\\\n",
    "then print the value returned by that function when passed array $a$\\\n",
    "NOTE: The array $s$ may have an <u>even</u> number of items!"
   ]
  },
  {
   "cell_type": "code",
   "execution_count": null,
   "id": "7a9110c4-dd1c-4a3a-9d28-bdcd737e95b9",
   "metadata": {
    "id": "Ba2lQLQEAX-h"
   },
   "outputs": [],
   "source": [
    "def median(s):\n",
    "    s.sort()\n",
    "    i = len(s) // 2\n",
    "    if len(s) % 2 == 1: # s has an odd number of elements\n",
    "        return s[i]\n",
    "    else: # s has an even number of elements\n",
    "        return (s[i - 1] + s[i]) / 2\n",
    "\n",
    "print(f\"{median(a) = }\")"
   ]
  },
  {
   "cell_type": "markdown",
   "id": "70a5bf69-3b31-4abd-bbfc-b4234807cc1d",
   "metadata": {
    "id": "pFIlr4wEFDWV"
   },
   "source": [
    "**Tally the total occurrences of each number in array $a$**"
   ]
  },
  {
   "cell_type": "code",
   "execution_count": null,
   "id": "6dd2407c-2864-4ba4-ab5e-c049bcd328fd",
   "metadata": {
    "id": "C5EZ7AkQFOLO"
   },
   "outputs": [],
   "source": [
    "collections.Counter(a)"
   ]
  },
  {
   "cell_type": "markdown",
   "id": "6e1ddeed-08bb-4a14-a9a3-66238fa87d10",
   "metadata": {
    "id": "MPaN32f4An4H"
   },
   "source": [
    "**Define a function `mode(s)` that returns the mode value of the array $s$**\\\n",
    "then print the value returned by that function when passed array $a$\\\n",
    "NOTE: The array $s$ may be <u>multi-modal</u>!"
   ]
  },
  {
   "cell_type": "code",
   "execution_count": null,
   "id": "3e4b7b06-8e5f-493b-8c25-46cf27a179e6",
   "metadata": {
    "id": "kQZZge5HBeYz"
   },
   "outputs": [],
   "source": [
    "def mode(s):\n",
    "    counts = collections.Counter(s)\n",
    "    max_count = max(counts.values())\n",
    "    if max_count == 1:\n",
    "        return None\n",
    "    else:\n",
    "        return [k for k, v in counts.items() if v == max_count]\n",
    "\n",
    "print(f\"{mode(a) = }\")"
   ]
  },
  {
   "cell_type": "markdown",
   "id": "966924ea-0438-403e-9def-f5ecbfc725ef",
   "metadata": {},
   "source": [
    "# Hero abilities"
   ]
  },
  {
   "cell_type": "markdown",
   "id": "b2e61872-ef51-488c-a24d-df27aa4d19a8",
   "metadata": {
    "id": "upZ8r32y4r-W"
   },
   "source": [
    "**Set $n$ (the number of rolls) to be 1,000,000**"
   ]
  },
  {
   "cell_type": "code",
   "execution_count": null,
   "id": "7ddd1f52-e0f6-4576-98f6-de9cf33e6e08",
   "metadata": {
    "id": "ilmp5bu241Vk"
   },
   "outputs": [],
   "source": []
  },
  {
   "cell_type": "markdown",
   "id": "daf0ff01-3177-4ffd-ad72-f81d9cdade1a",
   "metadata": {
    "id": "zmREh9f745J6"
   },
   "source": [
    "**Simulate $n$ number of 3d8 rolls and store each roll in array $a$**"
   ]
  },
  {
   "cell_type": "code",
   "execution_count": null,
   "id": "fec21f98-e7c5-4f59-b7de-20183386e369",
   "metadata": {
    "id": "7WGK6vsU4_0x"
   },
   "outputs": [],
   "source": []
  },
  {
   "cell_type": "markdown",
   "id": "27fe57fb-c982-4d6d-85f3-9f6792f20591",
   "metadata": {
    "id": "n_8xYE2D57zD"
   },
   "source": [
    "**Display the first ten 3d8 rolls**"
   ]
  },
  {
   "cell_type": "code",
   "execution_count": null,
   "id": "ed9a6e66-e677-4cb5-80f0-fe2d586bbd57",
   "metadata": {
    "id": "B13boYp35_Pi"
   },
   "outputs": [],
   "source": []
  },
  {
   "cell_type": "markdown",
   "id": "2c2e4112-51d2-4d9e-ad84-21deac4b80b4",
   "metadata": {
    "id": "4nNAr_n95Mit"
   },
   "source": [
    "**Simulate $n$ number of 1d20 rolls and store each roll in array $b$**"
   ]
  },
  {
   "cell_type": "code",
   "execution_count": null,
   "id": "b86693ea-de47-4e88-b54c-3ee2948a325f",
   "metadata": {
    "id": "65TNB8Yc5Ryj"
   },
   "outputs": [],
   "source": []
  },
  {
   "cell_type": "markdown",
   "id": "86fd41c9-34f3-4ea4-bd01-c65407612961",
   "metadata": {
    "id": "gbT33RaQ6Era"
   },
   "source": [
    "**Display the first ten 1d20 rolls**"
   ]
  },
  {
   "cell_type": "code",
   "execution_count": null,
   "id": "6409ca17-883e-4c7a-a5d7-770d6e265434",
   "metadata": {
    "id": "2tRWVakW6HrT"
   },
   "outputs": [],
   "source": []
  },
  {
   "cell_type": "markdown",
   "id": "e3a61248-c045-48d4-97ff-b5b4bfa48ade",
   "metadata": {
    "id": "tvcYNnKg5XPc"
   },
   "source": [
    "**Print the mean $(\\mu)$ and standard deviation $(\\sigma)$ across all 3d8 rolls**"
   ]
  },
  {
   "cell_type": "code",
   "execution_count": null,
   "id": "0a17120a-eb01-4a11-b024-475b58272893",
   "metadata": {
    "id": "oIdSvOvT50HK"
   },
   "outputs": [],
   "source": []
  },
  {
   "cell_type": "markdown",
   "id": "942993b7-7200-4116-814d-47acca4581d8",
   "metadata": {
    "id": "qPzSyULJ6QBa"
   },
   "source": [
    "**Print the mean $(\\mu)$ and standard deviation $(\\sigma)$ across all 1d20 rolls**"
   ]
  },
  {
   "cell_type": "code",
   "execution_count": null,
   "id": "f65a9a57-439e-4ea2-898a-8f00bb3fa3c7",
   "metadata": {
    "id": "yVrBOhR76U06"
   },
   "outputs": [],
   "source": []
  },
  {
   "cell_type": "markdown",
   "id": "47403c44-5be9-4497-80d1-9f45a645f0ba",
   "metadata": {},
   "source": [
    "# Uniform variance"
   ]
  },
  {
   "cell_type": "markdown",
   "id": "eccd2cf4-b05c-4e5b-9a31-660aab4fa958",
   "metadata": {
    "id": "4a0ojASiF_OI"
   },
   "source": [
    "**Define a function `run_trial(trial_num)` that**: \\\n",
    "1. Creates a random array\n",
    "2. Computes the magic number $\\frac{(upper\\ limit-lower\\ limit)^2}{\\sigma^2}$\n",
    "3. Prints the various statistics for this trial"
   ]
  },
  {
   "cell_type": "code",
   "execution_count": null,
   "id": "66e27059-22ef-40dd-990e-3902e210f29e",
   "metadata": {
    "id": "_xADIv9QGE7s"
   },
   "outputs": [],
   "source": [
    "def run_trial(trial_num):\n",
    "    lower_limit = np.random.randint(10_001)\n",
    "    upper_limit = lower_limit + np.random.randint(100_001)\n",
    "    size = np.random.randint(10_000, 200_001)\n",
    "    a = np.random.randint(lower_limit, upper_limit, size)\n",
    "    mean, var = np.mean(a), np.var(a)\n",
    "    magic = (upper_limit - lower_limit) ** 2 / var\n",
    "    print(f\"{trial_num:>8}\", end=\"\")\n",
    "    print(f\"{lower_limit:>9,}\", end=\"\")\n",
    "    print(f\"{upper_limit:>9,}\", end=\"\")\n",
    "    print(f\"{size:>9,}\", end=\"\")\n",
    "    print(f\"{mean:>14.3f}\", end=\"\")\n",
    "    print(f\"{var:>16.3f}\", end=\"\")\n",
    "    print(f\"{magic:>10.3f}\")"
   ]
  },
  {
   "cell_type": "markdown",
   "id": "504d27bf-1747-4d77-b196-ac40501ad834",
   "metadata": {
    "id": "Mrwmz2Jt_FAl"
   },
   "source": [
    "**Print the table headers then run 15 trials of this experiment**"
   ]
  },
  {
   "cell_type": "code",
   "execution_count": null,
   "id": "847ca3cb-2e39-4012-b8f9-95b62e5b1789",
   "metadata": {
    "id": "kQZZge5HBeYz"
   },
   "outputs": [],
   "source": [
    "print(f\"{'Trial #':>8}\", end=\"\")\n",
    "print(f\"{'Lower':>9}\", end=\"\")\n",
    "print(f\"{'Upper':>9}\", end=\"\")\n",
    "print(f\"{'Size':>9}\", end=\"\")\n",
    "print(f\"{'Mean':>14}\", end=\"\")\n",
    "print(f\"{'Variance':>16}\", end=\"\")\n",
    "print(f\"{'Magic':>10}\")\n",
    "\n",
    "for trial_num in range(1, 16):\n",
    "    run_trial(trial_num)"
   ]
  },
  {
   "cell_type": "markdown",
   "id": "4d7fdbb7-ac02-47d9-a10b-6aeee2545eb0",
   "metadata": {},
   "source": [
    "# Pachinko machine"
   ]
  },
  {
   "cell_type": "markdown",
   "id": "757ccd87-d506-4bf4-876d-2dd9f42713f3",
   "metadata": {
    "id": "xSJHzN1gNkKv"
   },
   "source": [
    "**Define a `numba` accelerated function to simulate dropping $num\\_balls$ through $num\\_levels$ down the pachinko machine** \\\n",
    "The function returns an array $balls$ which contains the final slot number of each ball"
   ]
  },
  {
   "cell_type": "code",
   "execution_count": null,
   "id": "71132172-3b36-4188-b917-bbc8246875df",
   "metadata": {
    "id": "66-TBVH3Nqw5"
   },
   "outputs": [],
   "source": [
    "@njit\n",
    "def pachinko_normal(num_balls, num_levels):\n",
    "    np.random.seed(2016)\n",
    "    balls = np.zeros(num_balls)\n",
    "    for ball_num in range(num_balls):\n",
    "        slot = 0\n",
    "        for _ in range(num_levels):\n",
    "            slot += -1 if np.random.rand() < 0.5 else 1\n",
    "        balls[ball_num] = slot // 2\n",
    "    return balls"
   ]
  },
  {
   "cell_type": "markdown",
   "id": "919a155e-f1be-4bc2-80dd-21db0adf053b",
   "metadata": {
    "id": "AFD5bxtDOrZq"
   },
   "source": [
    "**Define a function to graphically compare the distribution of balls dropped through a pachinko game \\\n",
    "with the exact (analytic) Gaussian standard normal distribution**"
   ]
  },
  {
   "cell_type": "code",
   "execution_count": null,
   "id": "10af4b1b-f15d-4aa0-b10a-549b982aff43",
   "metadata": {
    "id": "wOxHqdvzSZjw"
   },
   "outputs": [],
   "source": [
    "def run_simulation(total_balls, total_levels):\n",
    "    # Simulate the pachinko machine\n",
    "    balls = pachinko_normal(total_balls, total_levels)\n",
    "\n",
    "    # Calculate the mean number of of balls in each slot\n",
    "    slots = np.zeros(total_levels + 1)\n",
    "    first_slot = total_levels // 2\n",
    "    for ball_num in range(total_balls):\n",
    "        slot_num = int(first_slot + balls.take(ball_num))\n",
    "        slots[slot_num] += 1\n",
    "    slots = slots / total_balls\n",
    "\n",
    "    # Create an array of slot numbers\n",
    "    x = np.linspace(-total_levels // 2, total_levels // 2, total_levels + 1)\n",
    "\n",
    "    # Calculate the expected number of balls in each slot\n",
    "    mu = np.mean(balls)\n",
    "    sigma = np.std(balls)\n",
    "\n",
    "    # Create arrays to hold the values of a perfect normal distribution\n",
    "    norm_x = np.linspace(-total_levels // 2, total_levels // 2, 100)\n",
    "    norm_y = scipy.stats.norm(mu, sigma).pdf(norm_x)\n",
    "\n",
    "    # Plot the results\n",
    "    plt.plot(x, slots, color=\"blue\", linewidth=2, label=\"Pachinko PDF\")\n",
    "    plt.plot(norm_x, norm_y, color=\"red\", linewidth=2, label=\"Normal PDF\")\n",
    "    plt.title(\n",
    "        f\"Pachinko vs. Normal PDF ({total_balls:,} balls : {total_levels:,} levels)\"\n",
    "    )\n",
    "    plt.xlabel(\"Slot Number\")\n",
    "    plt.ylabel(\"Probability\")\n",
    "    plt.legend(loc=\"upper right\")\n",
    "    plt.show()"
   ]
  },
  {
   "cell_type": "code",
   "execution_count": null,
   "id": "1cbd3d58-1b80-469f-890f-a1a3ee2f6eb5",
   "metadata": {
    "id": "RsY8DsTFS9U-"
   },
   "outputs": [],
   "source": [
    "run_simulation(total_balls=1_000, total_levels=10)"
   ]
  },
  {
   "cell_type": "code",
   "execution_count": null,
   "id": "bfe5d7ca-4d95-498b-b477-fabbce717a65",
   "metadata": {
    "id": "ORV9Rt9OTTA3"
   },
   "outputs": [],
   "source": [
    "run_simulation(total_balls=10_000, total_levels=10)"
   ]
  },
  {
   "cell_type": "code",
   "execution_count": null,
   "id": "e2cda7b1-7641-4d39-af6c-ea905f64be7f",
   "metadata": {
    "id": "K2eD9E-NTWAb"
   },
   "outputs": [],
   "source": [
    "run_simulation(total_balls=100_000, total_levels=20)"
   ]
  },
  {
   "cell_type": "code",
   "execution_count": null,
   "id": "5993adf8-8832-4369-bd97-f94090e2eefb",
   "metadata": {
    "id": "-WtbXvVeTZnZ"
   },
   "outputs": [],
   "source": [
    "run_simulation(total_balls=1_000_000, total_levels=40)"
   ]
  },
  {
   "cell_type": "code",
   "execution_count": null,
   "id": "df6f29b2-167c-470f-9c2e-37ba96fbded2",
   "metadata": {
    "id": "hOLHdGw4TjWx"
   },
   "outputs": [],
   "source": [
    "run_simulation(total_balls=1_000_000, total_levels=80)"
   ]
  },
  {
   "cell_type": "markdown",
   "id": "5afb3d72-47b4-4f51-a81b-f4867040bbe0",
   "metadata": {},
   "source": [
    "# Lattice circle"
   ]
  },
  {
   "cell_type": "markdown",
   "id": "48eb010b-049a-48e8-84b9-d2118413a8b1",
   "metadata": {
    "id": "xSJHzN1gNkKv"
   },
   "source": [
    "**Define a `numba` accelerated function to return the number of lattice points within a circle of given radius $r$**"
   ]
  },
  {
   "cell_type": "code",
   "execution_count": null,
   "id": "f191b252-b6c1-41e0-858d-8b944b0ee1ec",
   "metadata": {
    "id": "66-TBVH3Nqw5"
   },
   "outputs": [],
   "source": []
  },
  {
   "cell_type": "markdown",
   "id": "377968ad-2342-4b41-8314-98eddd203a8d",
   "metadata": {
    "id": "AFD5bxtDOrZq"
   },
   "source": [
    "**Demonstrate the veracity of Gauss's claim regarding circle lattice points**\n",
    "1. For ten circles of increasing radius, print the <u>actual</u> and *estimated* number of lattice points\n",
    "2. For each circle, also print the **percent relative error** in Gauss's estimate"
   ]
  },
  {
   "cell_type": "code",
   "execution_count": null,
   "id": "375fc737-adfd-4c4d-81f0-4d07bdd30174",
   "metadata": {
    "id": "wOxHqdvzSZjw"
   },
   "outputs": [],
   "source": [
    "for radius in np.linspace(1000, 10000, 10):\n",
    "    act = lattice_points(radius)\n",
    "    est = int(np.pi * radius**2 + 2 * np.sqrt(2 * np.pi * radius))\n",
    "    err = (est - act) / act\n",
    "    print(\n",
    "        f\"Radius = {int(radius):>6,}\"\n",
    "        f\"  Act Points = {act:>12,}\"\n",
    "        f\"  Est Points = {est:>12,}\"\n",
    "        f\"  % Rel. Err = {err:0.4%}\"\n",
    "    )"
   ]
  },
  {
   "cell_type": "markdown",
   "id": "7002dd15-c933-4324-95cd-f01f2fc3b190",
   "metadata": {},
   "source": [
    "# Maxwell-Boltzmann"
   ]
  },
  {
   "cell_type": "markdown",
   "id": "c1edb302-b756-4899-a8e7-d872b4ac70d2",
   "metadata": {
    "id": "stLfebwic5Cq"
   },
   "source": [
    "**Define the PDF of the [Maxwell-Boltzmann distribution](https://en.wikipedia.org/wiki/Maxwell%E2%80%93Boltzmann_distribution) with rate parameter $a$:**\n",
    "\n",
    "$$\\sqrt{\\frac{2}{\\pi}}\\frac{x^2}{a^3}\\ \\mathrm{exp}\\left(\\frac{-x^2}{2a^2}\\right)$$"
   ]
  },
  {
   "cell_type": "code",
   "execution_count": null,
   "id": "bc02ed0d-172e-4934-abdb-9d909a3abb16",
   "metadata": {
    "id": "ZBzLVKhhcwHr"
   },
   "outputs": [],
   "source": [
    "def pdf(x, a):\n",
    "    # code here"
   ]
  },
  {
   "cell_type": "markdown",
   "id": "77786272-de10-44ad-8d79-4b8b4e0a6643",
   "metadata": {
    "id": "xdSainbEfWsL"
   },
   "source": [
    "**Set the domain $0\\le x \\le 20$**"
   ]
  },
  {
   "cell_type": "code",
   "execution_count": null,
   "id": "fe57a936-9229-48f5-9905-6e7f2c7de6a4",
   "metadata": {
    "id": "N7db_EYpfhjq"
   },
   "outputs": [],
   "source": [
    "x = # code here"
   ]
  },
  {
   "cell_type": "markdown",
   "id": "e8b21db1-a6da-4f5e-9984-363c6ec6ee3e",
   "metadata": {
    "id": "WVTPqGlCfqc4"
   },
   "source": [
    "**Plot three PDF curves for rate parameters: $a=1$, $a=2$, $a=5$**"
   ]
  },
  {
   "cell_type": "code",
   "execution_count": null,
   "id": "2808d414-1c0b-47cd-b551-542e83c4a7c6",
   "metadata": {
    "id": "7s0xuaTmf07k"
   },
   "outputs": [],
   "source": [
    "plt.plot(x, pdf(x, 1)\n",
    "plt.plot(x, pdf(x, 2)\n",
    "plt.plot(x, pdf(x, 3)\n",
    "plt.title(\"Maxwell-Boltzmann PDF\")\n",
    "plt.xlabel(\"x\")\n",
    "plt.ylabel(\"P(x)\")\n",
    "plt.legend(\n",
    "plt.grid(\n",
    "plt.show()"
   ]
  }
 ],
 "metadata": {
  "kernelspec": {
   "display_name": "Python 3 (ipykernel)",
   "language": "python",
   "name": "python3"
  },
  "language_info": {
   "codemirror_mode": {
    "name": "ipython",
    "version": 3
   },
   "file_extension": ".py",
   "mimetype": "text/x-python",
   "name": "python",
   "nbconvert_exporter": "python",
   "pygments_lexer": "ipython3",
   "version": "3.9.16"
  }
 },
 "nbformat": 4,
 "nbformat_minor": 5
}
