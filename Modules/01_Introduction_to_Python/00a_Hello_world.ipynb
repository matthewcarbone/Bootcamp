{
 "cells": [
  {
   "cell_type": "markdown",
   "id": "7f55bfcc-408c-4e7f-860b-148d058833df",
   "metadata": {},
   "source": [
    "# Python in a nutshell"
   ]
  },
  {
   "cell_type": "markdown",
   "id": "ac72069e-01d7-4120-a342-26a0a0a0d864",
   "metadata": {},
   "source": [
    "_Most of this content is based off of David Biersach's [SciComp101 course](https://github.com/dbiersach/scicomp101) on GitHub, check it out!_"
   ]
  },
  {
   "cell_type": "markdown",
   "id": "47a42fcb-ed49-4130-9a1f-97e4db60a2b8",
   "metadata": {},
   "source": [
    "This notebook contains multiple code-snippets which you will likely work through with an instructor. You're encouraged to run these cells yourself, modify the code, and experiment!"
   ]
  },
  {
   "cell_type": "markdown",
   "id": "7bfd20a8-db29-4543-8eb3-eac9fe755b4b",
   "metadata": {},
   "source": [
    "# Hello world!"
   ]
  },
  {
   "cell_type": "code",
   "execution_count": null,
   "id": "ad26231d-cbe6-467c-aa2a-220a327c7521",
   "metadata": {},
   "outputs": [],
   "source": [
    "print(\"Hello world!\")"
   ]
  }
 ],
 "metadata": {
  "kernelspec": {
   "display_name": "Python 3 (ipykernel)",
   "language": "python",
   "name": "python3"
  },
  "language_info": {
   "codemirror_mode": {
    "name": "ipython",
    "version": 3
   },
   "file_extension": ".py",
   "mimetype": "text/x-python",
   "name": "python",
   "nbconvert_exporter": "python",
   "pygments_lexer": "ipython3",
   "version": "3.9.16"
  }
 },
 "nbformat": 4,
 "nbformat_minor": 5
}
