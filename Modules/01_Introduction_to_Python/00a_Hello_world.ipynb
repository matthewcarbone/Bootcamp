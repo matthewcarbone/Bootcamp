{
 "cells": [
  {
   "cell_type": "markdown",
   "id": "7f55bfcc-408c-4e7f-860b-148d058833df",
   "metadata": {},
   "source": [
    "# Python in a nutshell - Hello world!"
   ]
  },
  {
   "cell_type": "markdown",
   "id": "47a42fcb-ed49-4130-9a1f-97e4db60a2b8",
   "metadata": {},
   "source": [
    "This is the basic \"hello world\" in Jupyter Notebook form! There's not much here, so feel free to use this notebook as scratch, or a template to save new copies in Google Drive if you're using Google Colab!"
   ]
  },
  {
   "cell_type": "markdown",
   "id": "7bfd20a8-db29-4543-8eb3-eac9fe755b4b",
   "metadata": {},
   "source": [
    "# Hello world!"
   ]
  },
  {
   "cell_type": "code",
   "execution_count": null,
   "id": "ad26231d-cbe6-467c-aa2a-220a327c7521",
   "metadata": {},
   "outputs": [],
   "source": [
    "print(\"Hello world!\")"
   ]
  }
 ],
 "metadata": {
  "kernelspec": {
   "display_name": "Python 3 (ipykernel)",
   "language": "python",
   "name": "python3"
  },
  "language_info": {
   "codemirror_mode": {
    "name": "ipython",
    "version": 3
   },
   "file_extension": ".py",
   "mimetype": "text/x-python",
   "name": "python",
   "nbconvert_exporter": "python",
   "pygments_lexer": "ipython3",
   "version": "3.11.0"
  }
 },
 "nbformat": 4,
 "nbformat_minor": 5
}
