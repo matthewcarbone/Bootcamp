{
 "cells": [
  {
   "cell_type": "markdown",
   "id": "7f55bfcc-408c-4e7f-860b-148d058833df",
   "metadata": {},
   "source": [
    "# Python in a nutshell - Functions and logic"
   ]
  },
  {
   "cell_type": "markdown",
   "id": "ac72069e-01d7-4120-a342-26a0a0a0d864",
   "metadata": {},
   "source": [
    "_Most of this content is based off of David Biersach's [SciComp101 course](https://github.com/dbiersach/scicomp101) on GitHub, check it out!_"
   ]
  },
  {
   "cell_type": "markdown",
   "id": "47a42fcb-ed49-4130-9a1f-97e4db60a2b8",
   "metadata": {},
   "source": [
    "This notebook contains multiple code-snippets which you will likely work through with an instructor. You're encouraged to run these cells yourself, modify the code, and experiment!"
   ]
  },
  {
   "cell_type": "markdown",
   "id": "a12f090a-1b8c-4230-bd31-92d42b289387",
   "metadata": {},
   "source": [
    "# The birthday paradox"
   ]
  },
  {
   "cell_type": "markdown",
   "id": "782e3611-f81c-45b1-937e-77600335d074",
   "metadata": {
    "id": "WWFGnCANTT9a"
   },
   "source": [
    "**Import packages used in this notebook**\n",
    "\n",
    "🚨 Note: you might have to install `numba` via `!pip install numba`, which you can do right from the notebook."
   ]
  },
  {
   "cell_type": "code",
   "execution_count": null,
   "id": "3df8ae4f-5a97-4045-b69e-f79d9649aa78",
   "metadata": {
    "id": "mGwCEJpkK6KV"
   },
   "outputs": [],
   "source": [
    "import matplotlib.pyplot as plt\n",
    "import numpy as np\n",
    "from numba import njit"
   ]
  },
  {
   "cell_type": "markdown",
   "id": "13220244-634e-4a9f-add9-2ba8d3d45205",
   "metadata": {
    "id": "3RYd696LK8jK"
   },
   "source": [
    "**Declare two `GLOBAL` variables**"
   ]
  },
  {
   "cell_type": "code",
   "execution_count": null,
   "id": "e0cf6286-ab8b-4419-9280-e634aae97cc6",
   "metadata": {
    "id": "rOE6d5FOLFSv"
   },
   "outputs": [],
   "source": [
    "total_classes = 10_000\n",
    "max_size = 80"
   ]
  },
  {
   "cell_type": "markdown",
   "id": "92f9c975-6153-4e4f-9dd1-78e599b04c8b",
   "metadata": {
    "id": "QhFFixepLJ_g"
   },
   "source": [
    "**Define an `numba` accelerated function to test if any two students within a given class size share the same birthday**\n",
    "\n",
    "🚨 Note: the `numba.njit` implementation compiles Python code to make it faster at runtime. This will sometimes break with very strange, non-pythonic errors and will usually only work on the simpler Python functions."
   ]
  },
  {
   "cell_type": "code",
   "execution_count": null,
   "id": "eedcb1ca-b215-46b2-bf01-acfb50f1821f",
   "metadata": {
    "id": "DIADC3TXLgB0"
   },
   "outputs": [],
   "source": [
    "@njit\n",
    "def shared_birthdays(class_size):\n",
    "    b = np.random.randint(0, 365, class_size)\n",
    "    for i in range(b.size - 2):\n",
    "        for j in range(i + 1, b.size):\n",
    "            if b[i] == b[j]:\n",
    "                return True\n",
    "    return False\n",
    "\n",
    "\n",
    "shared_birthdays(class_size=20)"
   ]
  },
  {
   "cell_type": "markdown",
   "id": "77c48899-a6c3-4740-a611-77bc133e0b95",
   "metadata": {
    "id": "5bzQEL3jL5hA"
   },
   "source": [
    "**Define an `numba` accelerated function to calculate the probability of having at least one shared birthday\\\n",
    "in 10,000 random classes of size ranging from 2 to 80 inclusive**"
   ]
  },
  {
   "cell_type": "code",
   "execution_count": null,
   "id": "128e3789-54dc-4aad-861b-c584bf85dfa8",
   "metadata": {
    "id": "GKJcqhH5Mgjw"
   },
   "outputs": [],
   "source": [
    "def calc_probabilities():\n",
    "    p = np.zeros(max_size + 1)\n",
    "    for c in range(2, max_size + 1):\n",
    "        n = 0\n",
    "        for _ in range(total_classes):\n",
    "            if shared_birthdays(c):\n",
    "                n = n + 1\n",
    "        p[c] = n / total_classes\n",
    "    return p"
   ]
  },
  {
   "cell_type": "markdown",
   "id": "305021d2-0c65-48e5-b8a0-e20293f3f7f7",
   "metadata": {
    "id": "XC0j-N7qMsfW"
   },
   "source": [
    "**Find the minimize class size where the probability of a shared birthday > 50%**"
   ]
  },
  {
   "cell_type": "code",
   "execution_count": null,
   "id": "06cc552c-3cff-4358-95b0-e8c82f6c0263",
   "metadata": {
    "id": "q2rm036oM3UB"
   },
   "outputs": [],
   "source": [
    "prob = calc_probabilities()\n",
    "min_class_size = np.where(prob > 0.50)[0][0]\n",
    "print(f\"Min Class Size = {min_class_size}\")"
   ]
  },
  {
   "cell_type": "markdown",
   "id": "0389cdba-e983-48dc-b05b-778ddc036ed6",
   "metadata": {
    "id": "Nd9JJ8TvNbak"
   },
   "source": [
    "**Calculate the exact analytic probabilities for $2\\leq n\\leq 80$ students using this formula:**\\\n",
    "$p(n)\\approx 1-e^-\\frac{n^2}{730}$"
   ]
  },
  {
   "cell_type": "code",
   "execution_count": null,
   "id": "7407e342-4d81-4e1e-8008-418ff572ed0d",
   "metadata": {
    "id": "9aQLvx_PNf8w"
   },
   "outputs": [],
   "source": [
    "n = np.arange(2, max_size + 1)\n",
    "p = 1.0 - np.exp(-(n**2) / 730)\n",
    "print(n)\n",
    "print(p)"
   ]
  },
  {
   "cell_type": "markdown",
   "id": "2150585f-c978-4a3d-8ecf-ac7028016b66",
   "metadata": {
    "id": "oXyNn1TdNlQB"
   },
   "source": [
    "**Graph both the discrete (estimated) and continuous (actual) probability curves**"
   ]
  },
  {
   "cell_type": "code",
   "execution_count": null,
   "id": "6aaca90c-7531-4e6b-aadc-1967a38665b4",
   "metadata": {
    "id": "mjjGo5LuN2nG"
   },
   "outputs": [],
   "source": [
    "plt.step(range(max_size + 1), prob, color=\"black\", linewidth=3, label=\"Estimated\")\n",
    "plt.plot(n, p, color=\"orange\", label=\"Actual\")\n",
    "plt.title(f\"Birthday Paradox ({total_classes:,} classes)\")\n",
    "plt.xlabel(\"Class Size\")\n",
    "plt.ylabel(\"Probability\")\n",
    "plt.vlines(min_class_size, 0, prob[min_class_size], color=\"blue\")\n",
    "plt.annotate(\n",
    "    f\"Min Class Size = {min_class_size}\",\n",
    "    xy=(min_class_size, prob[min_class_size]),\n",
    "    xytext=(28, 0.45),\n",
    "    arrowprops={\"facecolor\": \"black\"},\n",
    ")\n",
    "plt.legend(loc=\"upper left\")\n",
    "plt.show()"
   ]
  },
  {
   "cell_type": "markdown",
   "id": "1cc4b5cb-6878-4e34-91c7-bc37b3e99713",
   "metadata": {},
   "source": [
    "# Perfect numbers"
   ]
  },
  {
   "cell_type": "markdown",
   "id": "9a6ffdcf-d7e2-4814-be29-461135a83ccd",
   "metadata": {
    "id": "v4HkLsEdQnaJ"
   },
   "source": [
    "**Define a function to test if an integer $n$ is perfect**"
   ]
  },
  {
   "cell_type": "code",
   "execution_count": null,
   "id": "31809d42-cbc2-43fa-b3cb-44694c717502",
   "metadata": {
    "id": "nzCm4SuzQuBF"
   },
   "outputs": [],
   "source": []
  },
  {
   "cell_type": "markdown",
   "id": "123cbd91-17d0-4375-8202-49e7a6c3dcb9",
   "metadata": {
    "id": "3GUwes1uRDck"
   },
   "source": [
    "**Define a `main()` function to test every integer $n$ where $2\\leq n< 10,0000$**"
   ]
  },
  {
   "cell_type": "code",
   "execution_count": null,
   "id": "21f3c675-a24f-47e5-bd5e-f05eb67e7fff",
   "metadata": {
    "id": "gF-yhA3JRZpv"
   },
   "outputs": [],
   "source": []
  },
  {
   "cell_type": "markdown",
   "id": "c6c84b53-8771-4f0e-bcd3-d932e7aaa811",
   "metadata": {},
   "source": [
    "# Random straws"
   ]
  },
  {
   "cell_type": "markdown",
   "id": "f20d65c8-d9df-4bb7-b228-22ef8b7dd130",
   "metadata": {
    "id": "JC0mleBkTWUU"
   },
   "source": [
    "**Define a function to perform one run (one trial) of the random straws experiment**"
   ]
  },
  {
   "cell_type": "code",
   "execution_count": null,
   "id": "b9df6199-15b3-4c74-80f9-c2089f307ef6",
   "metadata": {
    "id": "YBjlSJS3UF2E"
   },
   "outputs": [],
   "source": []
  },
  {
   "cell_type": "markdown",
   "id": "6cb65b86-f8d3-4fc1-aaf2-9c3c61812568",
   "metadata": {
    "id": "UslgI7qwURkf"
   },
   "source": [
    "**Define and call a `main()` function to run one million trials**"
   ]
  },
  {
   "cell_type": "code",
   "execution_count": null,
   "id": "857f65f2-6f59-401e-a0fb-0ff1e0a4f961",
   "metadata": {
    "id": "WtUpdP_aUbpU"
   },
   "outputs": [],
   "source": []
  },
  {
   "cell_type": "markdown",
   "id": "f0c89176-a924-4b46-b770-768899e28cc4",
   "metadata": {},
   "source": [
    "# Collatz conjecture"
   ]
  },
  {
   "cell_type": "markdown",
   "id": "5c117d11-172e-40e8-a0fc-1592ea99bd8f",
   "metadata": {
    "id": "kYVHHw5sIEVX"
   },
   "source": [
    "**Define a function to return the Collatz stopping time for a given integer $n$**\\\n",
    "Use the `@njit` decorator to accelerate this function"
   ]
  },
  {
   "cell_type": "code",
   "execution_count": null,
   "id": "3602c823-5a42-40af-9509-69cacb792e34",
   "metadata": {
    "id": "8x5z57PiIMLM"
   },
   "outputs": [],
   "source": []
  },
  {
   "cell_type": "markdown",
   "id": "fa78136e-304a-4089-9c11-134e0061b2e4",
   "metadata": {
    "id": "LUWwgI82IgAg"
   },
   "source": [
    "**Define and call a `main()` function to calculate the stopping time for each\n",
    "for the first one million integers**\\\n",
    "and then plot a histogram showing the relative frequency of those stopping times"
   ]
  },
  {
   "cell_type": "code",
   "execution_count": null,
   "id": "990afd0f-e3fe-4059-bd23-440d5bc86a43",
   "metadata": {
    "id": "TUx2Tw8pJANj"
   },
   "outputs": [],
   "source": [
    "def main():\n",
    "    max_n = 1_000_000\n",
    "    x = np.arange(max_n)\n",
    "    y = np.vectorize(stop_time)(x)\n",
    "\n",
    "    plt.hist(y, bins=500, color=\"blue\")\n",
    "    plt.title(f\"Collatz Conjecture (n < {max_n:,})\")\n",
    "    plt.xlabel(\"Stopping Time\")\n",
    "    plt.ylabel(\"Count\")\n",
    "    plt.show()\n",
    "\n",
    "\n",
    "main()"
   ]
  },
  {
   "cell_type": "markdown",
   "id": "478ca56d-9aa9-45fa-a2bc-230ca62670e5",
   "metadata": {},
   "source": [
    "# Leibniz formula"
   ]
  },
  {
   "cell_type": "code",
   "execution_count": null,
   "id": "4ecaea3d-1f0e-4916-8a9b-cdca3f625fd3",
   "metadata": {},
   "outputs": [],
   "source": []
  }
 ],
 "metadata": {
  "kernelspec": {
   "display_name": "Python 3 (ipykernel)",
   "language": "python",
   "name": "python3"
  },
  "language_info": {
   "codemirror_mode": {
    "name": "ipython",
    "version": 3
   },
   "file_extension": ".py",
   "mimetype": "text/x-python",
   "name": "python",
   "nbconvert_exporter": "python",
   "pygments_lexer": "ipython3",
   "version": "3.9.16"
  }
 },
 "nbformat": 4,
 "nbformat_minor": 5
}
