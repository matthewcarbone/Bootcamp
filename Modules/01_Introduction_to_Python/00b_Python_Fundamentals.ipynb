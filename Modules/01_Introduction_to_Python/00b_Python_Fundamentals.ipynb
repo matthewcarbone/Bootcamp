{
 "cells": [
  {
   "cell_type": "markdown",
   "id": "7f55bfcc-408c-4e7f-860b-148d058833df",
   "metadata": {},
   "source": [
    "# Python in a nutshell - Python fundamentals"
   ]
  },
  {
   "cell_type": "markdown",
   "id": "ac72069e-01d7-4120-a342-26a0a0a0d864",
   "metadata": {},
   "source": [
    "_Most of this content is based off of David Biersach's [SciComp101 course](https://github.com/dbiersach/scicomp101) on GitHub, check it out!_"
   ]
  },
  {
   "cell_type": "markdown",
   "id": "47a42fcb-ed49-4130-9a1f-97e4db60a2b8",
   "metadata": {},
   "source": [
    "This notebook contains multiple code-snippets which you will likely work through with an instructor. You're encouraged to run these cells yourself, modify the code, and experiment!"
   ]
  },
  {
   "cell_type": "markdown",
   "id": "7bfd20a8-db29-4543-8eb3-eac9fe755b4b",
   "metadata": {},
   "source": [
    "# The basics"
   ]
  },
  {
   "cell_type": "markdown",
   "id": "6f6d9090-bea0-46ee-baa1-b72f578256c7",
   "metadata": {
    "id": "CLrW68QPg65T"
   },
   "source": [
    "**Calculate 7 + 2 / 3**"
   ]
  },
  {
   "cell_type": "code",
   "execution_count": null,
   "id": "3239cd49-748e-4223-a0bc-a3bbde9f2bc0",
   "metadata": {
    "id": "DdsAmo4fgz9V"
   },
   "outputs": [],
   "source": []
  },
  {
   "cell_type": "markdown",
   "id": "5ac0be42-b832-4a5d-a5b8-175b978b67b8",
   "metadata": {
    "id": "Jt-O1YxK_DrF"
   },
   "source": [
    "**Calculate (7 + 2) / 3**"
   ]
  },
  {
   "cell_type": "code",
   "execution_count": null,
   "id": "1822807c-7065-4838-86f1-9051bf7d4f9b",
   "metadata": {
    "id": "iLsSoJyD_OEX"
   },
   "outputs": [],
   "source": []
  },
  {
   "cell_type": "markdown",
   "id": "c2ed54fb-9bb5-49eb-9031-b54386d855aa",
   "metadata": {
    "id": "6CuVBIIV_jx3"
   },
   "source": [
    "**Set x to 2 and then print x**"
   ]
  },
  {
   "cell_type": "code",
   "execution_count": null,
   "id": "c44274d6-287e-4360-9fed-23a5eca579b1",
   "metadata": {
    "id": "QKQOcZJb_o8D"
   },
   "outputs": [],
   "source": []
  },
  {
   "cell_type": "markdown",
   "id": "61adfb70-06c4-47d7-a2c4-3be7a5b3f8c6",
   "metadata": {
    "id": "ig5SsoVfAD6J"
   },
   "source": [
    "**Set y to 3 and then print x and y**"
   ]
  },
  {
   "cell_type": "code",
   "execution_count": null,
   "id": "43e6ffac-74e4-4881-9e47-b9b7cf2ea442",
   "metadata": {
    "id": "1eLPCdgSAHdg"
   },
   "outputs": [],
   "source": []
  },
  {
   "cell_type": "markdown",
   "id": "5f59c0a7-1c78-4e1b-80d6-00f6c66e55ab",
   "metadata": {
    "id": "PtOsYE6rAkk2"
   },
   "source": [
    "**Does x equal y?**"
   ]
  },
  {
   "cell_type": "code",
   "execution_count": null,
   "id": "c7159f75-0cc4-423e-ba06-5d6ba3a90a04",
   "metadata": {
    "id": "Z0HgxcZQAn5w"
   },
   "outputs": [],
   "source": []
  },
  {
   "cell_type": "markdown",
   "id": "3d2edb7e-4399-4575-9774-37e36a3546ab",
   "metadata": {
    "id": "uCNzMcDBA7kJ"
   },
   "source": [
    "**Demonstrate the commutative property of multiplication**"
   ]
  },
  {
   "cell_type": "code",
   "execution_count": null,
   "id": "c11fd6e7-81c7-4609-92c8-e186fec622e7",
   "metadata": {
    "id": "weEeHfVeBELX"
   },
   "outputs": [],
   "source": []
  },
  {
   "cell_type": "markdown",
   "id": "e997f8a5-921b-4a5e-8d1e-997c7768533c",
   "metadata": {
    "id": "fszsxoHUBmDd"
   },
   "source": [
    "**Demonstrate that subtraction is *not* commutative**"
   ]
  },
  {
   "cell_type": "code",
   "execution_count": null,
   "id": "fd8c4f09-308f-4186-9f4d-4dd16523f50c",
   "metadata": {
    "id": "zgE6zg5LBzQT"
   },
   "outputs": [],
   "source": []
  },
  {
   "cell_type": "markdown",
   "id": "9566d605-1baa-4b38-9961-5023271e356a",
   "metadata": {
    "id": "p86I8HEFClh-"
   },
   "source": [
    "**Demonstrate that parenthesis override the regular order of operations**"
   ]
  },
  {
   "cell_type": "code",
   "execution_count": null,
   "id": "e6a5e169-168d-430b-806f-5056732021ba",
   "metadata": {
    "id": "CPCOiSWlCqn-"
   },
   "outputs": [],
   "source": []
  },
  {
   "cell_type": "markdown",
   "id": "ca66b5f5-aef3-4146-8c73-4795eed84649",
   "metadata": {
    "id": "Qrew2LXRCwoH"
   },
   "source": [
    "**Set z to x divided by y, then print z**"
   ]
  },
  {
   "cell_type": "code",
   "execution_count": null,
   "id": "b6f96b12-4fc3-4f04-a085-00a420c31424",
   "metadata": {
    "id": "01B0sVKQC1x9"
   },
   "outputs": [],
   "source": []
  },
  {
   "cell_type": "markdown",
   "id": "79b5b032-fa0a-4d5a-9c11-4a632ca44406",
   "metadata": {
    "id": "lZBYy4zoDC8W"
   },
   "source": [
    "**Demonstrate division takes precedence over addition**"
   ]
  },
  {
   "cell_type": "code",
   "execution_count": null,
   "id": "5b6ee614-b621-4000-a34d-dc2f78ff4d29",
   "metadata": {
    "id": "LfzfPYUPDKdI"
   },
   "outputs": [],
   "source": []
  },
  {
   "cell_type": "markdown",
   "id": "51aadfcc-4225-40cb-a77e-d785d0acc0fb",
   "metadata": {
    "id": "ryl_9XDpEH8z"
   },
   "source": [
    "**Print z using an f-string without any format specifer**"
   ]
  },
  {
   "cell_type": "code",
   "execution_count": null,
   "id": "a4db015c-f05a-4d6b-bde9-1766e2159b1b",
   "metadata": {
    "id": "eaMn0uAWEOw7"
   },
   "outputs": [],
   "source": []
  },
  {
   "cell_type": "markdown",
   "id": "3e2c788c-3309-48be-8701-47936d90b9f0",
   "metadata": {
    "id": "sYC-n7qDEYr6"
   },
   "source": [
    "**Print z using an f-string with 4 digits to the right of the decimal point**"
   ]
  },
  {
   "cell_type": "code",
   "execution_count": null,
   "id": "efe4e8da-db08-477f-a70a-6da75475ce38",
   "metadata": {
    "id": "-Fer0hJJEj0E"
   },
   "outputs": [],
   "source": []
  },
  {
   "cell_type": "markdown",
   "id": "2c2a8028-5397-47d7-9e13-df4c9bb5a115",
   "metadata": {},
   "source": [
    "# Converting your age between different units"
   ]
  },
  {
   "cell_type": "markdown",
   "id": "063aa6cd-b321-43ec-92e8-9f9cae467623",
   "metadata": {
    "id": "X1PePfmFGuJC"
   },
   "source": [
    "**Convert your age in years to age in seconds, and display both values**"
   ]
  },
  {
   "cell_type": "code",
   "execution_count": null,
   "id": "c7026e40-25cd-4c7f-bbcd-289f1e1b240b",
   "metadata": {
    "id": "7a1EhZgYGmNV"
   },
   "outputs": [],
   "source": [
    "age_years = 0\n",
    "age_seconds = age_years * 0\n",
    "\n",
    "print(f\"I am {age_years} years old\", end=\", \")\n",
    "print(f\"which is {age_seconds:,} seconds.\")"
   ]
  },
  {
   "cell_type": "markdown",
   "id": "0095f498-2ad6-4577-b640-7a1fa35eb59f",
   "metadata": {},
   "source": [
    "**Convert your age in years to age in weeks, and display both values**"
   ]
  },
  {
   "cell_type": "markdown",
   "id": "1ee6e968-816e-4295-a058-1b0182eb174a",
   "metadata": {},
   "source": [
    "# Gauss summation"
   ]
  },
  {
   "cell_type": "code",
   "execution_count": null,
   "id": "e3b56f14-d5e0-4d61-bd41-20b140871d45",
   "metadata": {},
   "outputs": [],
   "source": []
  },
  {
   "cell_type": "markdown",
   "id": "115b47f8-c04b-4272-bb45-569f22f3e096",
   "metadata": {
    "id": "IaKM1SpLVKEi"
   },
   "source": [
    "**Create a linear space spanning $1\\le x \\le 10$ having 10 equally spaced elements** (Don't forget to `import numpy`). We'll explore more of this in the TabularData section of the bootcamp."
   ]
  },
  {
   "cell_type": "code",
   "execution_count": null,
   "id": "456e9107-3585-4c96-b8e0-1762ac685823",
   "metadata": {
    "id": "V98e5Ei8VZ5S"
   },
   "outputs": [],
   "source": []
  },
  {
   "cell_type": "markdown",
   "id": "bb44bed5-9122-424d-a06c-077ffe219a44",
   "metadata": {
    "id": "WrsDvFW4T_lD"
   },
   "source": [
    "**Set $y_1$ to the *cummulative sum* of every element in x**\\\n",
    "$$y_1 = \\sum\\limits_{k=1}^{n} x_k$$"
   ]
  },
  {
   "cell_type": "code",
   "execution_count": null,
   "id": "389ecf2c-0b45-46e8-8bf4-9f9e91166e13",
   "metadata": {
    "id": "q292g7AtTzS2"
   },
   "outputs": [],
   "source": []
  },
  {
   "cell_type": "markdown",
   "id": "7f58c6a7-1d4d-4837-8a40-91a41b5d4d5d",
   "metadata": {
    "id": "I9hZSSYdWBKB"
   },
   "source": [
    "**Set $y_2$ to the result of applying the *Gaussian Summation* Operator to each value in x**\\\n",
    "$$y_2=\\frac{x_k(x_k+1)}{2}$$"
   ]
  },
  {
   "cell_type": "code",
   "execution_count": null,
   "id": "7ebde7e1-3186-4536-b3c8-421c748c192a",
   "metadata": {
    "id": "JB4cOUl7WJ0K"
   },
   "outputs": [],
   "source": []
  },
  {
   "cell_type": "markdown",
   "id": "1af52dd8-9ed2-4f7d-b846-4d397fee4002",
   "metadata": {
    "id": "YEUlsGJcWaeY"
   },
   "source": [
    "**Does every element in $y_1=y_2$ ?**"
   ]
  },
  {
   "cell_type": "code",
   "execution_count": null,
   "id": "2201162d-8c07-48c8-be02-8979b8f52509",
   "metadata": {
    "id": "yJTxfbS4Wy_i"
   },
   "outputs": [],
   "source": []
  }
 ],
 "metadata": {
  "kernelspec": {
   "display_name": "Python 3 (ipykernel)",
   "language": "python",
   "name": "python3"
  },
  "language_info": {
   "codemirror_mode": {
    "name": "ipython",
    "version": 3
   },
   "file_extension": ".py",
   "mimetype": "text/x-python",
   "name": "python",
   "nbconvert_exporter": "python",
   "pygments_lexer": "ipython3",
   "version": "3.9.16"
  }
 },
 "nbformat": 4,
 "nbformat_minor": 5
}
