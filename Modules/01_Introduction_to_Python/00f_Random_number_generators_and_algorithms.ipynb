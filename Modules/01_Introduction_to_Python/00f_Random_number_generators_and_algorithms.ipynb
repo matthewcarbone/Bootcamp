{
 "cells": [
  {
   "cell_type": "markdown",
   "id": "7f55bfcc-408c-4e7f-860b-148d058833df",
   "metadata": {},
   "source": [
    "# Python in a nutshell - Random number generators and algorithms"
   ]
  },
  {
   "cell_type": "markdown",
   "id": "ac72069e-01d7-4120-a342-26a0a0a0d864",
   "metadata": {},
   "source": [
    "_Most of this content is based off of David Biersach's [SciComp101 course](https://github.com/dbiersach/scicomp101) on GitHub, check it out!_"
   ]
  },
  {
   "cell_type": "markdown",
   "id": "47a42fcb-ed49-4130-9a1f-97e4db60a2b8",
   "metadata": {},
   "source": [
    "This notebook contains multiple code-snippets which you will likely work through with an instructor. You're encouraged to run these cells yourself, modify the code, and experiment!"
   ]
  },
  {
   "cell_type": "markdown",
   "id": "c3466da3-7919-41fd-82f1-88367858f927",
   "metadata": {},
   "source": [
    "**Import packages used in this notebook**"
   ]
  },
  {
   "cell_type": "code",
   "execution_count": null,
   "id": "9db7f432-a4f9-462e-ac81-feef711a40cc",
   "metadata": {
    "id": "DTc1EXWE-oOz"
   },
   "outputs": [],
   "source": [
    "import numpy as np\n",
    "import time\n",
    "import random"
   ]
  },
  {
   "cell_type": "markdown",
   "id": "c8dd8250-3d4d-4df0-8b37-919659dfbdf2",
   "metadata": {},
   "source": [
    "# List cards"
   ]
  },
  {
   "cell_type": "markdown",
   "id": "efca0b76-272a-4222-8bd6-9078baf5f757",
   "metadata": {
    "id": "URDsu5U-k3jO"
   },
   "source": [
    "**Declare two string arrays: `suits` and `ranks` to store human-readable card identifiers**\\\n",
    "The index number of each element matches the encoding table in the slide deck"
   ]
  },
  {
   "cell_type": "code",
   "execution_count": null,
   "id": "bd7e2070-c759-40a5-9479-1981975eb8a8",
   "metadata": {
    "id": "fQqlBjzPkzVh"
   },
   "outputs": [],
   "source": [
    "suits = [\"Clubs\", \"Diamonds\", \"Hearts\", \"Spades\"]\n",
    "\n",
    "ranks = [\"Deuce\", \"Three\", \"Four\", \"Five\", \"Six\", \"Seven\", \"Eight\", \"Nine\", \"Ten\", \"Jack\", \"Queen\", \"King\", \"Ace\"]"
   ]
  },
  {
   "cell_type": "markdown",
   "id": "f3da7c23-7edc-4514-8e2b-7c3c91276c9c",
   "metadata": {
    "id": "3rMNVL5_lMBL"
   },
   "source": [
    "**Define a function to initialize a deck (put the cards in order)**\\\n",
    "Each element in the deck array is set to its index number: position # = card #"
   ]
  },
  {
   "cell_type": "code",
   "execution_count": null,
   "id": "2bf9ad55-9709-42d7-b14e-ad833090d4b9",
   "metadata": {
    "id": "-1Q8LrPjlTub"
   },
   "outputs": [],
   "source": [
    "def init_deck():\n",
    "    return np.arange(0, 52)\n",
    "\n",
    "init_deck()"
   ]
  },
  {
   "cell_type": "markdown",
   "id": "49a789c0-3d43-4905-872b-fe752c6bd578",
   "metadata": {
    "id": "ZghqUJjdlhCB"
   },
   "source": [
    "**Define a function to print a deck of cards**\\\n",
    "We must convert a `card number` to the specific suit # and rank # for that card number"
   ]
  },
  {
   "cell_type": "code",
   "execution_count": null,
   "id": "7b91279c-75ee-4f54-b814-d679574691f8",
   "metadata": {
    "id": "xQ722gvDmCGr"
   },
   "outputs": [],
   "source": [
    "def print_deck(deck):\n",
    "    for card_pos in range(52):\n",
    "        card_num = deck[card_pos]\n",
    "        suit_num = card_num // 13\n",
    "        rank_num = card_num % 13\n",
    "        card_name = f\"{ranks[rank_num]} of {suits[suit_num]}\"\n",
    "        print(f\"The card in position {card_pos:2} is the {card_name}\")"
   ]
  },
  {
   "cell_type": "markdown",
   "id": "ac0298ef-5339-4bc0-bfa1-ae2531cde511",
   "metadata": {
    "id": "CZPngL9YmO-n"
   },
   "source": [
    "**Create a deck and then print out that deck**"
   ]
  },
  {
   "cell_type": "code",
   "execution_count": null,
   "id": "e495cb15-0dea-4a0e-8b08-e61b811760d0",
   "metadata": {
    "id": "1oc2nkPHmTtq"
   },
   "outputs": [],
   "source": [
    "deck = init_deck()\n",
    "print_deck(deck)"
   ]
  },
  {
   "cell_type": "markdown",
   "id": "81169c8b-fe5d-45c4-a7aa-e32558fe2941",
   "metadata": {},
   "source": [
    "# Dealer slow"
   ]
  },
  {
   "cell_type": "markdown",
   "id": "3d6142aa-c3b1-40b5-9b96-2e1f5637eb9c",
   "metadata": {
    "id": "URDsu5U-k3jO"
   },
   "source": [
    "**Declare two string arrays: `suits` and `ranks` to store human-readable card identifiers**\\\n",
    "The index number of each element matches the encoding table in the slide deck"
   ]
  },
  {
   "cell_type": "code",
   "execution_count": null,
   "id": "f3fef354-de8a-4be9-bf4b-2709ce84e667",
   "metadata": {
    "id": "fQqlBjzPkzVh"
   },
   "outputs": [],
   "source": [
    "suits = [\"Clubs\", \"Diamonds\", \"Hearts\", \"Spades\"]\n",
    "\n",
    "ranks = [\"Deuce\", \"Three\", \"Four\", \"Five\", \"Six\", \"Seven\", \"Eight\", \"Nine\", \"Ten\", \"Jack\", \"Queen\", \"King\", \"Ace\"]"
   ]
  },
  {
   "cell_type": "markdown",
   "id": "bf9faaff-3493-45e9-9994-1e0bbed0d65c",
   "metadata": {
    "id": "3rMNVL5_lMBL"
   },
   "source": [
    "**Define a function to <u>randomly</u> initialize a deck**\\\n",
    "Prevent duplicate cards by maintaining a helper `Boolean` array\\\n",
    "This array can track if a specific card number has already been dealt"
   ]
  },
  {
   "cell_type": "code",
   "execution_count": null,
   "id": "b1e5621d-53c5-4a45-b771-9a61ed11482d",
   "metadata": {
    "id": "-1Q8LrPjlTub"
   },
   "outputs": [],
   "source": [
    "def init_deck():\n",
    "    deck = np.arange(52)\n",
    "    already_dealt = np.zeros(52, dtype=bool)\n",
    "    for card_pos in range(52):\n",
    "        card_num = np.random.randint(52)\n",
    "        while already_dealt[card_num]:\n",
    "            card_num = np.random.randint(52)\n",
    "        deck[card_pos] = card_num\n",
    "        already_dealt[card_num] = True\n",
    "    return deck"
   ]
  },
  {
   "cell_type": "markdown",
   "id": "524e4aa4-a840-4ad5-abed-d19c240fef91",
   "metadata": {
    "id": "ZghqUJjdlhCB"
   },
   "source": [
    "**Define a function to print a deck of cards**\\\n",
    "We must convert a `card number` to the specific suit # and rank # for that card number"
   ]
  },
  {
   "cell_type": "code",
   "execution_count": null,
   "id": "18995f63-bdce-47d2-a310-abad13146ff6",
   "metadata": {
    "id": "xQ722gvDmCGr"
   },
   "outputs": [],
   "source": [
    "def print_deck(deck):\n",
    "    for card_pos in range(52):\n",
    "        card_num = deck[card_pos]\n",
    "        suit_num = card_num // 13\n",
    "        rank_num = card_num % 13\n",
    "        card_name = f\"{ranks[rank_num]} of {suits[suit_num]}\"\n",
    "        print(f\"The card in position {card_pos:2} is the {card_name}\")"
   ]
  },
  {
   "cell_type": "markdown",
   "id": "3000cc19-24f5-4378-98bf-25060cfeb280",
   "metadata": {
    "id": "CZPngL9YmO-n"
   },
   "source": [
    "**Time how long it takes to deal 10,000 random decks**\\\n",
    "Initialize the numpy random number generator so we get the same deal\\\n",
    "Print the last deal to visually confirm there are no duplicates"
   ]
  },
  {
   "cell_type": "code",
   "execution_count": null,
   "id": "438ef7d6-c351-44a3-9516-252bd471e961",
   "metadata": {
    "id": "1oc2nkPHmTtq"
   },
   "outputs": [],
   "source": [
    "np.random.seed(2016)\n",
    "total_deals = 10_000\n",
    "\n",
    "start_time = time.perf_counter()\n",
    "for _ in range(total_deals):\n",
    "    deck = init_deck()\n",
    "elapsed_time = time.perf_counter() - start_time\n",
    "\n",
    "print(f\"Total deals: {total_deals:,}\")\n",
    "print(f\"Total run time (sec): {elapsed_time:.3f}\")\n",
    "print()\n",
    "\n",
    "print_deck(deck)"
   ]
  },
  {
   "cell_type": "markdown",
   "id": "d1fef0ac-f6cf-43f7-acbd-46d4ceb682bc",
   "metadata": {},
   "source": [
    "# Dealer fast"
   ]
  },
  {
   "cell_type": "markdown",
   "id": "449bf1e2-f3a3-47a7-902a-42830798f9ab",
   "metadata": {
    "id": "URDsu5U-k3jO"
   },
   "source": [
    "**Declare two string arrays: `suits` and `ranks` to store human-readable card identifiers**\\\n",
    "The index number of each element matches the encoding table in the slide deck"
   ]
  },
  {
   "cell_type": "code",
   "execution_count": null,
   "id": "8d1f26c9-3819-4f5b-b099-0eea59faf2a9",
   "metadata": {
    "id": "fQqlBjzPkzVh"
   },
   "outputs": [],
   "source": [
    "suits = [\"Clubs\", \"Diamonds\", \"Hearts\", \"Spades\"]\n",
    "\n",
    "ranks = [\"Deuce\", \"Three\", \"Four\", \"Five\", \"Six\", \"Seven\", \"Eight\", \"Nine\", \"Ten\", \"Jack\", \"Queen\", \"King\", \"Ace\"]"
   ]
  },
  {
   "cell_type": "markdown",
   "id": "128bb91a-2be1-45e2-b37b-a856519172b4",
   "metadata": {
    "id": "3rMNVL5_lMBL"
   },
   "source": [
    "**Define a function to <u>randomly</u> initialize a deck**\\\n",
    "How does this approach avoid duplicates without a helper array?"
   ]
  },
  {
   "cell_type": "code",
   "execution_count": null,
   "id": "645a800a-107e-4e69-a7f0-95f608fa35e9",
   "metadata": {
    "id": "-1Q8LrPjlTub"
   },
   "outputs": [],
   "source": [
    "def init_deck():\n",
    "    deck = np.arange(52)\n",
    "    for card_pos in range(52):\n",
    "        new_card_pos = np.random.randint(52)\n",
    "        swap_card = deck[card_pos]\n",
    "        deck[card_pos] = deck[new_card_pos]\n",
    "        deck[new_card_pos] = swap_card\n",
    "    return deck"
   ]
  },
  {
   "cell_type": "markdown",
   "id": "0a763953-aca5-4e04-8897-74dd5450ea0d",
   "metadata": {
    "id": "ZghqUJjdlhCB"
   },
   "source": [
    "**Define a function to print a deck of cards**\\\n",
    "We must convert a `card number` to the specific suit # and rank # for that card number"
   ]
  },
  {
   "cell_type": "code",
   "execution_count": null,
   "id": "2424916f-43f8-43ba-87a8-13ed7709bd16",
   "metadata": {
    "id": "xQ722gvDmCGr"
   },
   "outputs": [],
   "source": [
    "def print_deck(deck):\n",
    "    for card_pos in range(52):\n",
    "        card_num = deck[card_pos]\n",
    "        suit_num = card_num // 13\n",
    "        rank_num = card_num % 13\n",
    "        card_name = f\"{ranks[rank_num]} of {suits[suit_num]}\"\n",
    "        print(f\"The card in position {card_pos:2} is the {card_name}\")"
   ]
  },
  {
   "cell_type": "markdown",
   "id": "8597302a-8a32-4342-92cd-a2db420618b2",
   "metadata": {
    "id": "CZPngL9YmO-n"
   },
   "source": [
    "**Time how long it takes to deal 10,000 random decks**\\\n",
    "Initialize the numpy random number generator so we get the same deal\\\n",
    "Print the last deal to visually confirm there are no duplicates"
   ]
  },
  {
   "cell_type": "code",
   "execution_count": null,
   "id": "fc7001c3-e9c6-41bc-8285-b05b6dc7e162",
   "metadata": {
    "id": "1oc2nkPHmTtq"
   },
   "outputs": [],
   "source": [
    "np.random.seed(2016)\n",
    "total_deals = 10_000\n",
    "\n",
    "start_time = time.perf_counter()\n",
    "for _ in range(total_deals):\n",
    "    deck = init_deck()\n",
    "elapsed_time = time.perf_counter() - start_time\n",
    "\n",
    "print(f\"Total deals: {total_deals:,}\")\n",
    "print(f\"Total run time (sec): {elapsed_time:.3f}\")\n",
    "print()\n",
    "\n",
    "print_deck(deck)"
   ]
  },
  {
   "cell_type": "markdown",
   "id": "063b1a23-9009-4365-bf03-3a14c918e52f",
   "metadata": {},
   "source": [
    "# Dealer bogus"
   ]
  },
  {
   "cell_type": "markdown",
   "id": "31c23c41-b5ef-4e41-b168-c4cfa2bef301",
   "metadata": {
    "id": "URDsu5U-k3jO"
   },
   "source": [
    "**Declare two string arrays: `suits` and `ranks` to store human-readable card identifiers**\\\n",
    "The index number of each element matches the encoding table in the slide deck"
   ]
  },
  {
   "cell_type": "code",
   "execution_count": null,
   "id": "275332f0-2d4c-40db-95d1-cf4704a6032a",
   "metadata": {
    "id": "fQqlBjzPkzVh"
   },
   "outputs": [],
   "source": [
    "suits = [\"Clubs\", \"Diamonds\", \"Hearts\", \"Spades\"]\n",
    "\n",
    "ranks = [\"Deuce\", \"Three\", \"Four\", \"Five\", \"Six\", \"Seven\", \"Eight\", \"Nine\", \"Ten\", \"Jack\", \"Queen\", \"King\", \"Ace\"]"
   ]
  },
  {
   "cell_type": "markdown",
   "id": "7690090e-9e0b-4308-aab4-455779cc9d6f",
   "metadata": {
    "id": "3rMNVL5_lMBL"
   },
   "source": [
    "**Define a function to <u>randomly</u> initialize a deck**"
   ]
  },
  {
   "cell_type": "code",
   "execution_count": null,
   "id": "a9f18119-81e2-4fdd-b137-52225e4a152a",
   "metadata": {
    "id": "-1Q8LrPjlTub"
   },
   "outputs": [],
   "source": [
    "def init_deck():\n",
    "    deck = np.arange(52)\n",
    "    for card_pos in range(52):\n",
    "        card_num = np.random.randint(52)\n",
    "        deck[card_pos] = card_num\n",
    "    return deck"
   ]
  },
  {
   "cell_type": "markdown",
   "id": "45c6e842-d0f8-451a-b0ac-9f0702368573",
   "metadata": {
    "id": "ZghqUJjdlhCB"
   },
   "source": [
    "**Define a function to print a deck of cards**\\\n",
    "We must convert a `card number` to the specific suit # and rank # for that card number"
   ]
  },
  {
   "cell_type": "code",
   "execution_count": null,
   "id": "29dd391b-d9ae-4a96-9020-1800c22e7a1c",
   "metadata": {
    "id": "xQ722gvDmCGr"
   },
   "outputs": [],
   "source": [
    "def print_deck(deck):\n",
    "    for card_pos in range(52):\n",
    "        card_num = deck[card_pos]\n",
    "        suit_num = card_num // 13\n",
    "        rank_num = card_num % 13\n",
    "        card_name = f\"{ranks[rank_num]} of {suits[suit_num]}\"\n",
    "        print(f\"The card in position {card_pos:2} is the {card_name}\")"
   ]
  },
  {
   "cell_type": "markdown",
   "id": "95139ef6-e813-4c5c-9ba4-d59cb2518353",
   "metadata": {
    "id": "CZPngL9YmO-n"
   },
   "source": [
    "**Create a deck and then print out that deck**\\\n",
    "Initialize the numpy random number generator so we get the same deal"
   ]
  },
  {
   "cell_type": "code",
   "execution_count": null,
   "id": "0059fc7c-d8a6-45e9-836c-d0d5eafd6f75",
   "metadata": {
    "id": "1oc2nkPHmTtq"
   },
   "outputs": [],
   "source": [
    "np.random.seed(2016)\n",
    "deck = init_deck()\n",
    "print_deck(deck)"
   ]
  },
  {
   "cell_type": "markdown",
   "id": "716d673b-0348-4e1c-a90d-574433e68c2c",
   "metadata": {},
   "source": [
    "# Prime racer 1"
   ]
  },
  {
   "cell_type": "markdown",
   "id": "f953c188-761d-45d7-ac96-0f63edaadca1",
   "metadata": {
    "id": "bc88JOLitO52"
   },
   "source": [
    "**Define a function to return `True` or `False` if the given number $n$ is prime**"
   ]
  },
  {
   "cell_type": "code",
   "execution_count": null,
   "id": "c90cb6fa-6b63-4040-905f-47ba08573882",
   "metadata": {
    "id": "WMOq_OrCtZsf"
   },
   "outputs": [],
   "source": [
    "def is_prime(n):\n",
    "    return all(n % factor != 0 for factor in range(2, n))\n",
    "\n",
    "\n",
    "print(f\"{is_prime(13) = }\")\n",
    "print(f\"{is_prime(25) = }\")"
   ]
  },
  {
   "cell_type": "markdown",
   "id": "06b78192-17d1-4b6c-bf8a-68cab0804409",
   "metadata": {
    "id": "2pp8wHnYtsW2"
   },
   "source": [
    "**Time how long it takes to count the number of primes in an array**\\\n",
    "The array has $100,000$ integers each in the range $1,000\\le n\\le 10,000$\\\n",
    "Note the use of [random.randint()](https://www.w3schools.com/python/ref_random_randint.asp) to generate inclusive uniform distribution"
   ]
  },
  {
   "cell_type": "code",
   "execution_count": null,
   "id": "154bf042-60fb-401d-abfa-84660adf3d56",
   "metadata": {
    "id": "UzZ995ctumI6"
   },
   "outputs": [],
   "source": [
    "random.seed(2016)\n",
    "num_primes = 0\n",
    "\n",
    "start_time = time.perf_counter()\n",
    "for _ in range(100_000):\n",
    "    n = random.randint(1_000, 10_000)\n",
    "    if is_prime(n):\n",
    "        num_primes += 1\n",
    "elapsed_time = time.perf_counter() - start_time\n",
    "\n",
    "print(f\"Number of primes found: {num_primes:,}\")\n",
    "print(f\"Total run time (sec): {elapsed_time:.3f}\")"
   ]
  },
  {
   "cell_type": "markdown",
   "id": "c7d34965-8831-4c3e-8775-2044721aa4a6",
   "metadata": {},
   "source": [
    "# Prime racer 2"
   ]
  },
  {
   "cell_type": "markdown",
   "id": "7366130e-60ff-4885-9169-edfbea289a96",
   "metadata": {
    "id": "bc88JOLitO52"
   },
   "source": [
    "**Define a function to return `True` or `False` if the given number $n$ is prime**\n",
    "1. If a number is even then we know *immediately* it is <u>NOT</u> prime!"
   ]
  },
  {
   "cell_type": "code",
   "execution_count": null,
   "id": "8531e632-ea1f-493f-bcf2-34b909b85489",
   "metadata": {
    "id": "WMOq_OrCtZsf"
   },
   "outputs": [],
   "source": [
    "def is_prime(n):\n",
    "    if n % 2 == 0:\n",
    "        return False\n",
    "    else:\n",
    "        return all(n % factor != 0 for factor in range(3, n, 2))\n",
    "\n",
    "\n",
    "print(f\"{is_prime(13) = }\")\n",
    "print(f\"{is_prime(25) = }\")"
   ]
  },
  {
   "cell_type": "markdown",
   "id": "beb93f27-4aa9-4eba-8b0d-debe11507c7a",
   "metadata": {
    "id": "2pp8wHnYtsW2"
   },
   "source": [
    "**Time how long it takes to count the number of primes in an array**\\\n",
    "The array has $100,000$ integers each in the range $1,000\\le n\\le 10,000$\\\n",
    "Note the use of [random.randint()](https://www.w3schools.com/python/ref_random_randint.asp) to generate inclusive uniform distribution"
   ]
  },
  {
   "cell_type": "code",
   "execution_count": null,
   "id": "244e16f3-3543-4de2-ae1e-dfd6261ab008",
   "metadata": {
    "id": "UzZ995ctumI6"
   },
   "outputs": [],
   "source": [
    "random.seed(2016)\n",
    "num_primes = 0\n",
    "\n",
    "start_time = time.perf_counter()\n",
    "for _ in range(100_000):\n",
    "    n = random.randint(1_000, 10_000)\n",
    "    if is_prime(n):\n",
    "        num_primes += 1\n",
    "elapsed_time = time.perf_counter() - start_time\n",
    "\n",
    "print(f\"Number of primes found: {num_primes:,}\")\n",
    "print(f\"Total run time (sec): {elapsed_time:.3f}\")"
   ]
  },
  {
   "cell_type": "markdown",
   "id": "3656235a-3551-47f1-946a-cdfcf740f97d",
   "metadata": {},
   "source": [
    "# Prime racer 3"
   ]
  },
  {
   "cell_type": "markdown",
   "id": "0f992448-967b-487b-bef3-1bbda41309f7",
   "metadata": {
    "id": "bc88JOLitO52"
   },
   "source": [
    "**Define a function to return `True` or `False` if the given number $n$ is prime**\n",
    "1. If a number is even then we know *immediately* it is <u>NOT</u> prime!\n",
    "2. If a number is composite, at least one of its factors must be $\\le⌊\\sqrt{n}⌋$"
   ]
  },
  {
   "cell_type": "code",
   "execution_count": null,
   "id": "db739bd3-d152-4876-9d41-0f22543b0f38",
   "metadata": {
    "id": "WMOq_OrCtZsf"
   },
   "outputs": [],
   "source": [
    "def is_prime(n):\n",
    "    if n % 2 == 0:\n",
    "        return False\n",
    "    else:\n",
    "        return all(n % factor != 0 for factor in range(3, int(math.sqrt(n)) + 1, 2))\n",
    "\n",
    "\n",
    "print(f\"{is_prime(13) = }\")\n",
    "print(f\"{is_prime(25) = }\")"
   ]
  },
  {
   "cell_type": "markdown",
   "id": "93f300cd-dc68-4b04-8d1c-a65345baf917",
   "metadata": {
    "id": "2pp8wHnYtsW2"
   },
   "source": [
    "**Time how long it takes to count the number of primes in an array**\\\n",
    "The array has $100,000$ integers each in the range $1,000\\le n\\le 10,000$\\\n",
    "Note the use of [random.randint()](https://www.w3schools.com/python/ref_random_randint.asp) to generate inclusive uniform distribution"
   ]
  },
  {
   "cell_type": "code",
   "execution_count": null,
   "id": "47f7da8e-6d33-4dcb-9a90-f564aa8589b4",
   "metadata": {
    "id": "UzZ995ctumI6"
   },
   "outputs": [],
   "source": [
    "random.seed(2016)\n",
    "num_primes = 0\n",
    "\n",
    "start_time = time.perf_counter()\n",
    "for _ in range(100_000):\n",
    "    n = random.randint(1_000, 10_000)\n",
    "    if is_prime(n):\n",
    "        num_primes += 1\n",
    "elapsed_time = time.perf_counter() - start_time\n",
    "\n",
    "print(f\"Number of primes found: {num_primes:,}\")\n",
    "print(f\"Total run time (sec): {elapsed_time:.3f}\")"
   ]
  },
  {
   "cell_type": "markdown",
   "id": "051a7765-24a1-43ac-ba02-5ee3df9160d1",
   "metadata": {},
   "source": [
    "# LCM from GCD"
   ]
  },
  {
   "cell_type": "code",
   "execution_count": null,
   "id": "43183b04-ecd1-410f-bee6-d9b4d26e3fb6",
   "metadata": {},
   "outputs": [],
   "source": [
    "a = 447618\n",
    "b = 2011835"
   ]
  }
 ],
 "metadata": {
  "kernelspec": {
   "display_name": "Python 3 (ipykernel)",
   "language": "python",
   "name": "python3"
  },
  "language_info": {
   "codemirror_mode": {
    "name": "ipython",
    "version": 3
   },
   "file_extension": ".py",
   "mimetype": "text/x-python",
   "name": "python",
   "nbconvert_exporter": "python",
   "pygments_lexer": "ipython3",
   "version": "3.9.16"
  }
 },
 "nbformat": 4,
 "nbformat_minor": 5
}
