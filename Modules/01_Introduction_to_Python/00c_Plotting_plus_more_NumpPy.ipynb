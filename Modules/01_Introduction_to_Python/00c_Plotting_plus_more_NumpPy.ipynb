{
 "cells": [
  {
   "cell_type": "markdown",
   "id": "7f55bfcc-408c-4e7f-860b-148d058833df",
   "metadata": {},
   "source": [
    "# Python in a nutshell - Plotting and more NumPy"
   ]
  },
  {
   "cell_type": "markdown",
   "id": "ac72069e-01d7-4120-a342-26a0a0a0d864",
   "metadata": {},
   "source": [
    "_Most of this content is based off of David Biersach's [SciComp101 course](https://github.com/dbiersach/scicomp101) on GitHub, check it out!_"
   ]
  },
  {
   "cell_type": "markdown",
   "id": "47a42fcb-ed49-4130-9a1f-97e4db60a2b8",
   "metadata": {},
   "source": [
    "This notebook contains multiple code-snippets which you will likely work through with an instructor. You're encouraged to run these cells yourself, modify the code, and experiment!"
   ]
  },
  {
   "cell_type": "markdown",
   "id": "ab910e09-1ff7-4648-a9f6-20a130a666e4",
   "metadata": {},
   "source": [
    "**Import packages used in this notebook**"
   ]
  },
  {
   "cell_type": "code",
   "execution_count": null,
   "id": "b150ce01-19ca-40de-8fa5-1d18a99ec245",
   "metadata": {},
   "outputs": [],
   "source": [
    "import numpy as np\n",
    "import matplotlib.pyplot as plt"
   ]
  },
  {
   "cell_type": "markdown",
   "id": "7bfd20a8-db29-4543-8eb3-eac9fe755b4b",
   "metadata": {},
   "source": [
    "# More NumPy"
   ]
  },
  {
   "cell_type": "markdown",
   "id": "550957e7-f701-42a2-a5ec-6145561fbd07",
   "metadata": {
    "id": "7mRcofyvCW4B"
   },
   "source": [
    "**Create two arrays containing $n$ random integers (uniform distribution)**\\\n",
    "Each element $k$ should be $1\\leq k\\leq n$"
   ]
  },
  {
   "cell_type": "code",
   "execution_count": null,
   "id": "4d1dab61-002c-4099-92e2-5c62acc91a15",
   "metadata": {
    "id": "P9Lle5YpCaIU"
   },
   "outputs": [],
   "source": [
    "n = 1_000_000\n",
    "a = np.random.randint(1, n, size=n)\n",
    "b = np.random.randint(1, n, size=n)\n",
    "print(a)\n",
    "print(b)"
   ]
  },
  {
   "cell_type": "markdown",
   "id": "71e9b156-76e8-46d1-8b62-1f1bd34f0bfc",
   "metadata": {
    "id": "Vx7e2xl6Dq3J"
   },
   "source": [
    "**Create an array that holds the $gcd(a,b)$**"
   ]
  },
  {
   "cell_type": "code",
   "execution_count": null,
   "id": "2b917200-5ea9-4767-84f0-e6fb1f758cc5",
   "metadata": {
    "id": "ZaUgT3NhD0BH"
   },
   "outputs": [],
   "source": [
    "c = np.gcd(a, b)\n",
    "print(c)"
   ]
  },
  {
   "cell_type": "markdown",
   "id": "0556051d-ccd0-4e35-be23-5cd2d6991c15",
   "metadata": {
    "id": "6pIvRaOjD_3c"
   },
   "source": [
    "**Calculate the probability that each value in the a and b arrays are coprime**"
   ]
  },
  {
   "cell_type": "code",
   "execution_count": null,
   "id": "452cd20b-a46d-4613-bb15-0d463144abab",
   "metadata": {
    "id": "axdYPp7GEPvw"
   },
   "outputs": [],
   "source": [
    "p = np.sum(c == 1) / n\n",
    "print(f\"{p = }\")"
   ]
  },
  {
   "cell_type": "markdown",
   "id": "f700a7e2-7b93-49b9-a1d4-8b30722ba15d",
   "metadata": {
    "id": "8d4tbJLiEVqf"
   },
   "source": [
    "**Calculate $\\sqrt{\\frac{6}{p}}$**"
   ]
  },
  {
   "cell_type": "code",
   "execution_count": null,
   "id": "d6feffed-8b61-4f56-a859-69f6bb2aa3a0",
   "metadata": {
    "id": "cARttWelEfrX"
   },
   "outputs": [],
   "source": [
    "print(np.sqrt(6 / p))"
   ]
  },
  {
   "cell_type": "markdown",
   "id": "1a94978a-452e-42ef-85c3-2431c66bdbfe",
   "metadata": {},
   "source": [
    "# Some basic plotting"
   ]
  },
  {
   "cell_type": "markdown",
   "id": "b77fdeae-be5d-43f8-8106-a76237325b1b",
   "metadata": {
    "id": "gHavbEC71SGz"
   },
   "source": [
    "**Graph the Fahrenheit and Celsius scales versus the Kelvin scale**"
   ]
  },
  {
   "cell_type": "code",
   "execution_count": null,
   "id": "1b65bb16-0927-42f5-9d67-eeb9839791e3",
   "metadata": {
    "id": "0u1PeXJL1NgK"
   },
   "outputs": [],
   "source": [
    "k = np.linspace(0, 400)\n",
    "f = 9 / 5 * (k - 273.15) + 32\n",
    "c = 5 / 9 * (f - 32)\n",
    "\n",
    "plt.plot(k, f, label=\"Fahrenheit\")\n",
    "plt.plot(k, c, label=\"Celsius\")\n",
    "plt.legend(loc=\"upper left\")\n",
    "\n",
    "plt.title(\"Temperature Scale Comparison\")\n",
    "plt.xlabel(\"Kelvin\")\n",
    "plt.ylabel(\"Temperature\")\n",
    "\n",
    "plt.grid(\"on\")\n",
    "plt.show()"
   ]
  },
  {
   "cell_type": "markdown",
   "id": "22b1b34a-fd3b-4450-812d-45b639d9915c",
   "metadata": {},
   "source": [
    "# More NumPy! The Basel problem"
   ]
  },
  {
   "cell_type": "markdown",
   "id": "cee8194a-7c68-4442-bb9a-60c496d2ee82",
   "metadata": {
    "id": "53UEuucT3FPJ"
   },
   "source": [
    "**Create a linear space $1\\leq x\\leq 100,000$ with 100,000 elements**"
   ]
  },
  {
   "cell_type": "code",
   "execution_count": null,
   "id": "76dff71c-e656-4f7d-a315-fa6270d5b88d",
   "metadata": {
    "id": "2Pg1BTmq3XH9"
   },
   "outputs": [],
   "source": []
  },
  {
   "cell_type": "markdown",
   "id": "ba5224ae-6364-4f3f-a5c1-d5b62dd91948",
   "metadata": {
    "id": "Vp4dzLil3yYx"
   },
   "source": [
    "**Set $y_1 = \\sum\\limits_{k=1}^{n}\\frac{1}{x_k}$ and $y_2=\\sum\\limits_{k=1}^{n}\\frac{1}{(x_k)^2}$**"
   ]
  },
  {
   "cell_type": "code",
   "execution_count": null,
   "id": "d568f168-e14e-4e7e-b614-16e615a3e1be",
   "metadata": {
    "id": "k7ite0Xd4ZJ_"
   },
   "outputs": [],
   "source": []
  },
  {
   "cell_type": "markdown",
   "id": "7dd34bf5-c7dc-42f4-92b1-983533106173",
   "metadata": {
    "id": "GEOaD8yK5gd8"
   },
   "source": [
    "**Graph $y1(x)$ and $y2(x)$**"
   ]
  },
  {
   "cell_type": "code",
   "execution_count": null,
   "id": "c2617f0c-bfef-49c9-ba9a-a2ac498849bd",
   "metadata": {
    "id": "BJmNq0us5qEW"
   },
   "outputs": [],
   "source": [
    "plt.plot(x, y1, label=\"1/x\")\n",
    "plt.plot(x, y2, label=\"1/x**2\")\n",
    "plt.legend(loc=\"center right\")\n",
    "\n",
    "plt.title(\"Infinite Series\")\n",
    "plt.xlabel(\"Number of Terms\")\n",
    "plt.ylabel(\"Cumulative Sum\")\n",
    "\n",
    "plt.show()"
   ]
  },
  {
   "cell_type": "markdown",
   "id": "f70463dc-b682-40ae-b0c5-fba37c6b1990",
   "metadata": {
    "id": "8aVF7gSM57TV"
   },
   "source": [
    "**Calculate $\\sqrt{6\\left(\\sum\\limits_{n=1}^{\\infty}\\frac{1}{n^2}\\right)}$**\\\n",
    "Note: We cannot include an infinite number of terms"
   ]
  },
  {
   "cell_type": "code",
   "execution_count": null,
   "id": "b306064a-2060-438f-8509-5f431eaebe6c",
   "metadata": {
    "id": "m7Zsxqjw8ipn"
   },
   "outputs": [],
   "source": []
  },
  {
   "cell_type": "markdown",
   "id": "831a3e2e-7af7-480d-bdcc-96756bb3797e",
   "metadata": {
    "id": "cqNHLKDh_mgJ"
   },
   "source": [
    "**Demonstrate that $\\sum\\limits_{n=1}^\\infty n^3 = \\left(\\sum\\limits_{n=1}^\\infty n\\right)^2$**"
   ]
  },
  {
   "cell_type": "code",
   "execution_count": null,
   "id": "eea05390-3485-473d-921c-c55ecf69690b",
   "metadata": {
    "id": "F-Jt4fUF-zXz"
   },
   "outputs": [],
   "source": []
  },
  {
   "cell_type": "markdown",
   "id": "fe8d1889-f910-4ec0-9596-b1dfcd26ce89",
   "metadata": {},
   "source": [
    "# Another plotting example"
   ]
  },
  {
   "cell_type": "markdown",
   "id": "b614ac24-59da-464d-8fc4-478aab47e4a4",
   "metadata": {
    "id": "f1GeKsp5tPv4"
   },
   "source": [
    "**Create an array x spanning $-10\\leq x\\leq 10$**"
   ]
  },
  {
   "cell_type": "code",
   "execution_count": null,
   "id": "19a4685c-ab26-4e3e-b37b-b1d56a4e980d",
   "metadata": {
    "id": "D34XGUuDvXtF"
   },
   "outputs": [],
   "source": []
  },
  {
   "cell_type": "markdown",
   "id": "d14b2655-4b44-4efe-a97f-278a4f044424",
   "metadata": {
    "id": "bkP9dlrPviTp"
   },
   "source": [
    "**Set $y_1=2x-5$**"
   ]
  },
  {
   "cell_type": "code",
   "execution_count": null,
   "id": "97eeb395-1ff6-4396-a6cf-6b9aa21c81b9",
   "metadata": {
    "id": "au4WqtKsvtMe"
   },
   "outputs": [],
   "source": []
  },
  {
   "cell_type": "markdown",
   "id": "5584986e-3b22-4adc-8b97-41eaa328af31",
   "metadata": {
    "id": "iI7EyI-Qv1L_"
   },
   "source": [
    "**Set $y_2=-0.3x^2+15$**"
   ]
  },
  {
   "cell_type": "code",
   "execution_count": null,
   "id": "ac1d4cfe-1329-4453-a4c4-bdbe3e1336e5",
   "metadata": {
    "id": "S4UO3tm_v-5E"
   },
   "outputs": [],
   "source": []
  },
  {
   "cell_type": "markdown",
   "id": "4a8d805c-2a87-4490-a9fa-dc929e941f31",
   "metadata": {
    "id": "1OwLlyrkwGsd"
   },
   "source": [
    "**Create one graph that plots both $y_1(x)$ and $y_2(x)$**"
   ]
  },
  {
   "cell_type": "markdown",
   "id": "92775d5a-7134-4149-852f-e9c405f85935",
   "metadata": {
    "id": "knrf4iBfwTyb"
   },
   "source": [
    "# Plot the quintic function"
   ]
  },
  {
   "cell_type": "code",
   "execution_count": null,
   "id": "a784ab28-118e-4fff-9090-905f06030f7f",
   "metadata": {},
   "outputs": [],
   "source": [
    "x = # code here\n",
    "y = # code here\n",
    "\n",
    "plt.plot(x, y)\n",
    "plt.grid(\"on\")\n",
    "plt.show()"
   ]
  }
 ],
 "metadata": {
  "kernelspec": {
   "display_name": "Python 3 (ipykernel)",
   "language": "python",
   "name": "python3"
  },
  "language_info": {
   "codemirror_mode": {
    "name": "ipython",
    "version": 3
   },
   "file_extension": ".py",
   "mimetype": "text/x-python",
   "name": "python",
   "nbconvert_exporter": "python",
   "pygments_lexer": "ipython3",
   "version": "3.9.16"
  }
 },
 "nbformat": 4,
 "nbformat_minor": 5
}
